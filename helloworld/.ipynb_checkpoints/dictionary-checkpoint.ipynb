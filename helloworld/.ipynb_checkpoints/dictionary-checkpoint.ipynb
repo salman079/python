{
 "cells": [
  {
   "cell_type": "code",
   "execution_count": 5,
   "metadata": {},
   "outputs": [],
   "source": [
    "customer = {\"name\":\"salman siddiqui\",\n",
    "           \"age\":41,\n",
    "           \"is_verfied\":True \n",
    "            }"
   ]
  },
  {
   "cell_type": "code",
   "execution_count": 6,
   "metadata": {},
   "outputs": [
    {
     "name": "stdout",
     "output_type": "stream",
     "text": [
      "salman siddiqui True\n",
      "41\n"
     ]
    }
   ],
   "source": [
    "print(customer[\"name\"],customer[\"is_verfied\"])\n",
    "print(customer.get(\"age\"))"
   ]
  },
  {
   "cell_type": "code",
   "execution_count": 7,
   "metadata": {},
   "outputs": [
    {
     "name": "stdout",
     "output_type": "stream",
     "text": [
      "{'name': 'salman siddiqui', 'age': 42, 'is_verfied': True, 'religon': 'islam'}\n"
     ]
    }
   ],
   "source": [
    "customer[\"age\"] = 42\n",
    "customer[\"religon\"] = \"islam\"\n",
    "print(customer)"
   ]
  },
  {
   "cell_type": "code",
   "execution_count": 8,
   "metadata": {},
   "outputs": [
    {
     "name": "stdout",
     "output_type": "stream",
     "text": [
      "Input number: 9\n",
      "nine "
     ]
    }
   ],
   "source": [
    "words = {\"1\":\"one\",\"2\":\"two\",\"3\":\"three\",\"4\":\"four\",\"5\":\"five\",\"6\":\"six\",\"7\":\"seven\",\"8\":\"eight\",\"9\":\"nine\",\"0\":\"zero\"}\n",
    "numbers=input(\"Input number: \")\n",
    "for number in numbers:\n",
    "    for i in words:\n",
    "        if number == i:\n",
    "            print(words[i],end=\" \")"
   ]
  },
  {
   "cell_type": "code",
   "execution_count": 9,
   "metadata": {},
   "outputs": [
    {
     "name": "stdout",
     "output_type": "stream",
     "text": [
      "Input number: 86876\n",
      "eight six eight seven six "
     ]
    }
   ],
   "source": [
    "words = {\"1\":\"one\",\"2\":\"two\",\"3\":\"three\",\"4\":\"four\",\"5\":\"five\",\"6\":\"six\",\"7\":\"seven\",\"8\":\"eight\",\"9\":\"nine\",\"0\":\"zero\"}\n",
    "numbers=input(\"Input number: \")\n",
    "converted =\"\"\n",
    "for number in numbers:\n",
    "    #converted += word.get(number)\n",
    "    #print(words[number],end=\" \") we can use this too\n",
    "    print(words.get(number,\"!\"),end=\" \")"
   ]
  },
  {
   "cell_type": "code",
   "execution_count": 10,
   "metadata": {},
   "outputs": [
    {
     "name": "stdout",
     "output_type": "stream",
     "text": [
      "say something: 98989 :) :):)\n",
      "98989 happy :):) "
     ]
    }
   ],
   "source": [
    "comment= input(\"say something: \")\n",
    "split=comment.split(\" \")\n",
    "expression = {\n",
    "    \":)\":\"happy\",\n",
    "    \":(\":\"sad\"\n",
    "}\n",
    "for s in split:\n",
    "    print(expression.get(s,s), end = \" \")"
   ]
  },
  {
   "cell_type": "code",
   "execution_count": 11,
   "metadata": {},
   "outputs": [
    {
     "name": "stdout",
     "output_type": "stream",
     "text": [
      "1 one\n",
      "2 two\n",
      "3 three\n",
      "4 four\n",
      "5 five\n",
      "6 six\n",
      "7 seven\n",
      "8 eight\n",
      "9 nine\n",
      "0 zero\n",
      "1 2 3 4 5 6 7 8 9 0 ==========\n",
      "one two three four five six seven eight nine zero "
     ]
    }
   ],
   "source": [
    "words = {\"1\":\"one\",\"2\":\"two\",\"3\":\"three\",\"4\":\"four\",\"5\":\"five\",\"6\":\"six\",\"7\":\"seven\",\"8\":\"eight\",\"9\":\"nine\",\"0\":\"zero\"}\n",
    "for i in words:\n",
    "        print(i,words.get(i))\n",
    "\n",
    "for k in words.keys():\n",
    "          print(k, end=\" \")\n",
    "\n",
    "print(\"=\"*10)          \n",
    "\n",
    "for j in words.values():\n",
    "          print(j, end=\" \")"
   ]
  },
  {
   "cell_type": "code",
   "execution_count": 12,
   "metadata": {},
   "outputs": [
    {
     "name": "stdout",
     "output_type": "stream",
     "text": [
      "{'roll': [1, 3, 9, 10], 'name': ['salman', 'tooba', 'reema', 'abdullah']}\n",
      "roll [1, 3, 9, 10]\n",
      "name ['salman', 'tooba', 'reema', 'abdullah']\n",
      "==========\n",
      "roll [1, 3, 9, 10]\n",
      "name ['salman', 'tooba', 'reema', 'abdullah']\n"
     ]
    }
   ],
   "source": [
    "sch_dict={\"roll\":[1,3,9,10],\"name\":[\"salman\",\"tooba\",\"reema\",\"abdullah\"]}\n",
    "print(sch_dict)\n",
    "for a in sch_dict:\n",
    "    print(a, sch_dict.get(a))\n",
    "print(\"==========\")\n",
    "\n",
    "for a,b in sch_dict.items():\n",
    "    print(a, b)    "
   ]
  },
  {
   "cell_type": "markdown",
   "metadata": {},
   "source": [
    "# List of Dictionary  / List holding Dictionary"
   ]
  },
  {
   "cell_type": "code",
   "execution_count": 13,
   "metadata": {},
   "outputs": [],
   "source": [
    "customers = [{\n",
    "\"customer id\": 0,\n",
    "\"first name\":\"John\",\n",
    "\"last name\": \"Ogden\",\n",
    "\"address\": \"301 Arbor Rd.\",\n",
    "},\n",
    "{\n",
    "\"customer id\": 1,\n",
    "\"first name\":\"Ann\",\n",
    "\"last name\": \"Sattermyer\",\n",
    "\"address\": \"PO Box 1145\",\n",
    "},\n",
    "{\n",
    "\"customer id\": 2,\n",
    "\"first name\":\"Jill\",\n",
    "\"last name\": \"Somers\",\n",
    "\"address\": \"3 Main St.\",\n",
    "}]"
   ]
  },
  {
   "cell_type": "code",
   "execution_count": 14,
   "metadata": {},
   "outputs": [
    {
     "name": "stdout",
     "output_type": "stream",
     "text": [
      "3 Main St.\n"
     ]
    }
   ],
   "source": [
    "print(customers[2][\"address\"])"
   ]
  },
  {
   "cell_type": "code",
   "execution_count": 15,
   "metadata": {},
   "outputs": [
    {
     "name": "stdout",
     "output_type": "stream",
     "text": [
      "{'customer id': 0, 'first name': 'John', 'last name': 'Ogden', 'address': '301 Arbor Rd.'}\n",
      "{'customer id': 1, 'first name': 'Ann', 'last name': 'Sattermyer', 'address': 'PO Box 1145'}\n",
      "{'customer id': 2, 'first name': 'Jill', 'last name': 'Somers', 'address': '3 Main St.'}\n"
     ]
    }
   ],
   "source": [
    "for customer in customers:\n",
    "    print(customer)"
   ]
  },
  {
   "cell_type": "code",
   "execution_count": 16,
   "metadata": {},
   "outputs": [],
   "source": [
    "customers[0][\"email\"]= \"abc@xyz.com\""
   ]
  },
  {
   "cell_type": "code",
   "execution_count": 17,
   "metadata": {},
   "outputs": [
    {
     "name": "stdout",
     "output_type": "stream",
     "text": [
      "[{'customer id': 0, 'first name': 'John', 'last name': 'Ogden', 'address': '301 Arbor Rd.', 'email': 'abc@xyz.com'}, {'customer id': 1, 'first name': 'Ann', 'last name': 'Sattermyer', 'address': 'PO Box 1145'}, {'customer id': 2, 'first name': 'Jill', 'last name': 'Somers', 'address': '3 Main St.'}]\n"
     ]
    }
   ],
   "source": [
    "print(customers)"
   ]
  },
  {
   "cell_type": "code",
   "execution_count": 18,
   "metadata": {},
   "outputs": [],
   "source": [
    "customers.append({'customer id': 3, 'first name': 'Salman', 'last name': 'Siddiqui', 'address': 'Jeddah'})\n",
    "customers.append({'customer id': len(customers), 'first name': 'Abdullah', 'last name': 'Siddiqui', 'address': 'Pakistan'})"
   ]
  },
  {
   "cell_type": "code",
   "execution_count": 19,
   "metadata": {},
   "outputs": [
    {
     "name": "stdout",
     "output_type": "stream",
     "text": [
      "[{'customer id': 0, 'first name': 'John', 'last name': 'Ogden', 'address': '301 Arbor Rd.', 'email': 'abc@xyz.com'}, {'customer id': 1, 'first name': 'Ann', 'last name': 'Sattermyer', 'address': 'PO Box 1145'}, {'customer id': 2, 'first name': 'Jill', 'last name': 'Somers', 'address': '3 Main St.'}, {'customer id': 3, 'first name': 'Salman', 'last name': 'Siddiqui', 'address': 'Jeddah'}, {'customer id': 4, 'first name': 'Abdullah', 'last name': 'Siddiqui', 'address': 'Pakistan'}]\n"
     ]
    }
   ],
   "source": [
    "print(customers)"
   ]
  },
  {
   "cell_type": "markdown",
   "metadata": {},
   "source": [
    "# dictionay holding list "
   ]
  },
  {
   "cell_type": "code",
   "execution_count": 26,
   "metadata": {},
   "outputs": [
    {
     "name": "stdout",
     "output_type": "stream",
     "text": [
      "{'roll': [1, 3, 9, 10], 'name': ['salman', 'tooba', 'reema', 'abdullah']}\n"
     ]
    }
   ],
   "source": [
    "sch_dict={\"roll\":[1,3,9,10],\"name\":[\"salman\",\"tooba\",\"reema\",\"abdullah\"]}\n",
    "print(sch_dict)"
   ]
  },
  {
   "cell_type": "code",
   "execution_count": 29,
   "metadata": {},
   "outputs": [
    {
     "name": "stdout",
     "output_type": "stream",
     "text": [
      "roll 1\n",
      "roll 3\n",
      "roll 9\n",
      "roll 10\n",
      "name salman\n",
      "name tooba\n",
      "name reema\n",
      "name abdullah\n"
     ]
    }
   ],
   "source": [
    "for a in sch_dict:\n",
    "    for b in sch_dict[a]:\n",
    "        print(a,b)\n",
    "        #break"
   ]
  },
  {
   "cell_type": "code",
   "execution_count": 16,
   "metadata": {},
   "outputs": [
    {
     "name": "stdout",
     "output_type": "stream",
     "text": [
      "Name :['Tooba', 'Abdullah', 'Hassan', 'Rafaya', 'Marium']\n",
      "Roll no: [1, 2, 3, 56, 23, 12]\n",
      "Std data base: {'roll_no': [], 'name': []}\n"
     ]
    }
   ],
   "source": [
    "# define lists\n",
    "roll_no = [1,2,3,56,23,12]\n",
    "name = [\"Tooba\",\"Abdullah\", \"Hassan\", \"Rafaya\",\"Marium\"]\n",
    "print(f\"Name :{name}\\nRoll no: {roll_no}\")\n",
    "\n",
    "# initiate a dict of student data\n",
    "std_data = {\"roll_no\":[],\"name\":[]}\n",
    "print(f\"Std data base: {std_data}\")"
   ]
  },
  {
   "cell_type": "code",
   "execution_count": 18,
   "metadata": {},
   "outputs": [
    {
     "name": "stdout",
     "output_type": "stream",
     "text": [
      "after update std data base: {'roll_no': [1, 2, 3, 56, 23, 12], 'name': ['Tooba', 'Abdullah', 'Hassan', 'Rafaya', 'Marium']}\n"
     ]
    }
   ],
   "source": [
    "# adding list to a dict\n",
    "std_data[\"roll_no\"]=roll_no\n",
    "std_data[\"name\"]=name\n",
    "print(f\"after update std data base: {std_data}\")\n"
   ]
  },
  {
   "cell_type": "code",
   "execution_count": 32,
   "metadata": {},
   "outputs": [
    {
     "name": "stdout",
     "output_type": "stream",
     "text": [
      "after update std data base: {'roll_no': [1, 2, 3, 56, 23, 12], 'name': ['Tooba', 'Abdullah', 'Hassan', 'Rafaya', 'Marium'], 'age': [9, 8, 0.5, 14, 3], 'class': 'Artificial Intelligence', 786: 2020, 420: 'Thief in a class'}\n",
      "Hassan's age: 0.5\n"
     ]
    }
   ],
   "source": [
    "# adding more keys to dict\n",
    "std_data[\"age\"]=[9,8,.5,14,3]\n",
    "std_data[\"class\"] = \"Artificial Intelligence\"\n",
    "std_data[786] = 2020\n",
    "std_data[420] = \"Thief in a class\"\n",
    "print(f\"after update std data base: {std_data}\")\n",
    "# accessing any specific value\n",
    "print(f\"Hassan's age: {std_data['age'][2]}\")"
   ]
  },
  {
   "cell_type": "code",
   "execution_count": 33,
   "metadata": {},
   "outputs": [
    {
     "name": "stdout",
     "output_type": "stream",
     "text": [
      "after update std data base: {'roll_no': [1, 2, 3, 56, 23, 12], 'name': ['Tooba', 'Abdullah', 'Hassan', 'Rafaya', 'Marium'], 'age': [9, 8, 0.5, 14, 3], 'class': 'Artificial Intelligence', 786: 1979, 420: 'Thief in a class'}\n"
     ]
    }
   ],
   "source": [
    "# lets change the value of 786 from 2020 to 1979\n",
    "std_data[786]= 1979\n",
    "print(f\"after update std data base: {std_data}\")"
   ]
  },
  {
   "cell_type": "code",
   "execution_count": null,
   "metadata": {},
   "outputs": [],
   "source": []
  },
  {
   "cell_type": "markdown",
   "metadata": {},
   "source": [
    "# Dictionay holding a dictionary / Nested dictionary"
   ]
  },
  {
   "cell_type": "code",
   "execution_count": 57,
   "metadata": {},
   "outputs": [
    {
     "name": "stdout",
     "output_type": "stream",
     "text": [
      "{'customer id': 3, 'first name': 'Salman', 'last name': 'Siddiqui', 'address': 'Jeddah'}\n"
     ]
    }
   ],
   "source": [
    "customer_dict_dict ={\n",
    "\"johnybro\": {'customer id': 0, 'first name': 'John', 'last name': 'Ogden', 'address': '301 Arbor Rd.', 'email': 'abc@xyz.com'}, \n",
    "\"anno_bhai\": {'customer id': 1, 'first name': 'Ann', 'last name': 'Sattermyer', 'address': 'PO Box 1145'}, \n",
    "\"jilly\": {'customer id': 2, 'first name': 'Jill', 'last name': 'Somers', 'address': '3 Main St.'}, \n",
    "\"saloo_bhai\": {'customer id': 3, 'first name': 'Salman', 'last name': 'Siddiqui', 'address': 'Jeddah'}, \n",
    "\"ado_saith\": {'customer id': 4, 'first name': 'Abdullah', 'last name': 'Siddiqui', 'address': 'Pakistan'}\n",
    "}\n",
    "print(customer_dict_dict[\"saloo_bhai\"])"
   ]
  },
  {
   "cell_type": "code",
   "execution_count": 75,
   "metadata": {},
   "outputs": [
    {
     "name": "stdout",
     "output_type": "stream",
     "text": [
      "0\n",
      "John\n",
      "Ogden\n",
      "301 Arbor Rd.\n",
      "abc@xyz.com\n",
      "==========\n",
      "1\n",
      "Ann\n",
      "Sattermyer\n",
      "PO Box 1145\n",
      "==========\n",
      "2\n",
      "Jill\n",
      "Somers\n",
      "3 Main St.\n",
      "==========\n",
      "3\n",
      "Salman\n",
      "Siddiqui\n",
      "Jeddah\n",
      "==========\n",
      "4\n",
      "Abdullah\n",
      "Siddiqui\n",
      "Pakistan\n",
      "==========\n",
      "cusotmer name johnybro\n",
      "customer id: 0\n",
      "full name: John Ogden\n",
      "address : 301 Arbor Rd.\n",
      "==========\n",
      "cusotmer name anno_bhai\n",
      "customer id: 1\n",
      "full name: Ann Sattermyer\n",
      "address : PO Box 1145\n",
      "==========\n",
      "cusotmer name jilly\n",
      "customer id: 2\n",
      "full name: Jill Somers\n",
      "address : 3 Main St.\n",
      "==========\n",
      "cusotmer name saloo_bhai\n",
      "customer id: 3\n",
      "full name: Salman Siddiqui\n",
      "address : Jeddah\n",
      "==========\n",
      "cusotmer name ado_saith\n",
      "customer id: 4\n",
      "full name: Abdullah Siddiqui\n",
      "address : Pakistan\n",
      "==========\n"
     ]
    }
   ],
   "source": [
    "for a in customer_dict_dict:\n",
    "    for b in customer_dict_dict[a]:\n",
    "        #for c in customer_dict_dict[a][b]:\n",
    "           print(customer_dict_dict[a][b])\n",
    "    print(\"=\"*10)\n",
    "\n",
    "for x, y in customer_dict_dict.items():\n",
    "    print(f\"cusotmer name {x}\")\n",
    "    print(f\"customer id: {y['customer id']}\")\n",
    "    print(f\"full name: {y['first name']} {y['last name']}\")\n",
    "    print(f\"address : {y['address']}\")\n",
    "    print(\"=\"*10)\n",
    "    #print(f\"email: {y['email']}\")"
   ]
  },
  {
   "cell_type": "code",
   "execution_count": 77,
   "metadata": {},
   "outputs": [
    {
     "name": "stdout",
     "output_type": "stream",
     "text": [
      "\n",
      "Username: aeinstein\n",
      "\tFull name: Albert Einstein\n",
      "\tLocation: Princeton\n",
      "\n",
      "Username: mcurie\n",
      "\tFull name: Marie Curie\n",
      "\tLocation: Paris\n"
     ]
    }
   ],
   "source": [
    "users = {\n",
    "'aeinstein': {\n",
    "'first': 'albert',\n",
    "'last': 'einstein',\n",
    "'location': 'princeton',},\n",
    "'mcurie': {\n",
    "'first': 'marie',\n",
    "'last': 'curie',\n",
    "'location': 'paris',},\n",
    "}\n",
    "for username, user_info in users.items():\n",
    "    print(f\"\\nUsername: {username}\")\n",
    "    full_name = f\"{user_info['first']} {user_info['last']}\"\n",
    "    location = user_info['location']\n",
    "    print(f\"\\tFull name: {full_name.title()}\")\n",
    "    print(f\"\\tLocation: {location.title()}\")"
   ]
  },
  {
   "cell_type": "code",
   "execution_count": 86,
   "metadata": {},
   "outputs": [
    {
     "data": {
      "text/plain": [
       "'curie'"
      ]
     },
     "execution_count": 86,
     "metadata": {},
     "output_type": "execute_result"
    }
   ],
   "source": [
    "#access data in a nested dict item\n",
    "users['mcurie']['last']\n",
    "#print({users['mcurie']['last']})"
   ]
  },
  {
   "cell_type": "markdown",
   "metadata": {},
   "source": [
    "# Adding of two or more dictionaries"
   ]
  },
  {
   "cell_type": "code",
   "execution_count": 59,
   "metadata": {},
   "outputs": [
    {
     "name": "stdout",
     "output_type": "stream",
     "text": [
      "dict1: {'a': 1, 'b': 2, 'c': 3}\n",
      "dict2: {'x': 8, 'y': 9, 'z': 10}\n",
      "dict0: {'a': 0, 'y': '99'}\n",
      "{'a': 0, 'b': 2, 'c': 3, 'x': 8, 'y': '99', 'z': 10}\n"
     ]
    }
   ],
   "source": [
    "# defining dictionary\n",
    "dict1={\"a\":1,\"b\":2,\"c\":3}\n",
    "dict2={\"x\":8,\"y\":9,\"z\":10}\n",
    "dict0={\"a\":0,\"y\":\"99\"}\n",
    "print(f\"dict1: {dict1}\")\n",
    "print(f\"dict2: {dict2}\")\n",
    "print(f\"dict0: {dict0}\")\n",
    "# adding dictionary\n",
    "dict3 = {**dict1, **dict2, **dict0}\n",
    "print(f\"{dict3}\")"
   ]
  },
  {
   "cell_type": "markdown",
   "metadata": {},
   "source": [
    "# List and Dict in Dict"
   ]
  },
  {
   "cell_type": "code",
   "execution_count": 98,
   "metadata": {},
   "outputs": [
    {
     "name": "stdout",
     "output_type": "stream",
     "text": [
      "{'dict1': {'a': 'abc', 1: 99}, 'list1': [9, 324, 22, 3]}\n",
      "accessing  dict item in dict 99\n",
      "accessing  dict item in dict abc\n",
      "accissing list item in dict 22\n"
     ]
    }
   ],
   "source": [
    "list=[9,324,22,3]\n",
    "dict={\"a\":\"abc\", 1:99}\n",
    "dict_list={\"dict1\":dict,\"list1\":list}\n",
    "print(f\"{dict_list}\")\n",
    "#access a dict in dict item\n",
    "print(f\"accessing  dict item in dict {dict_list['dict1'][1]}\")\n",
    "#access a dict in dict item\n",
    "print(f\"accessing  dict item in dict {dict_list['dict1']['a']}\")\n",
    "#access a list in dict item\n",
    "print(f\"accissing list item in dict {dict_list['list1'][2]}\")"
   ]
  },
  {
   "cell_type": "code",
   "execution_count": null,
   "metadata": {},
   "outputs": [],
   "source": []
  }
 ],
 "metadata": {
  "kernelspec": {
   "display_name": "Python 3",
   "language": "python",
   "name": "python3"
  },
  "language_info": {
   "codemirror_mode": {
    "name": "ipython",
    "version": 3
   },
   "file_extension": ".py",
   "mimetype": "text/x-python",
   "name": "python",
   "nbconvert_exporter": "python",
   "pygments_lexer": "ipython3",
   "version": "3.7.6"
  }
 },
 "nbformat": 4,
 "nbformat_minor": 4
}
