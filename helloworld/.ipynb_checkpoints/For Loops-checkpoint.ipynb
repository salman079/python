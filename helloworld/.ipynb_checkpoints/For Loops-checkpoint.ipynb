{
 "cells": [
  {
   "cell_type": "code",
   "execution_count": 73,
   "metadata": {},
   "outputs": [
    {
     "name": "stdout",
     "output_type": "stream",
     "text": [
      "1 salman\n",
      "2 salman\n",
      "3 salman\n",
      "4 salman\n",
      "5 salman\n",
      "6 salman\n",
      "7 salman\n",
      "8 salman\n",
      "9 salman\n",
      "10 salman\n"
     ]
    }
   ],
   "source": [
    "a = 9\n",
    "ass = range(1,11)\n",
    "for a in ass:\n",
    "    print(f\"{a} salman\")\n",
    "       \n"
   ]
  },
  {
   "cell_type": "code",
   "execution_count": 74,
   "metadata": {},
   "outputs": [
    {
     "name": "stdout",
     "output_type": "stream",
     "text": [
      "first name A: \n",
      "Ax\n",
      "Ay\n",
      "Az\n",
      "first name B: \n",
      "Bx\n",
      "By\n",
      "Bz\n",
      "first name C: \n",
      "Cx\n",
      "Cy\n",
      "Cz\n",
      "first name D: \n",
      "Dx\n",
      "Dy\n",
      "Dz\n"
     ]
    }
   ],
   "source": [
    "first = [\"A\",\"B\",\"C\",\"D\"]\n",
    "last = [\"x\",\"y\",\"z\"]\n",
    "for a in first:\n",
    "    print(f\"first name {a}: \")\n",
    "    for b in last:\n",
    "        print(a+b)\n",
    "        "
   ]
  },
  {
   "cell_type": "code",
   "execution_count": 75,
   "metadata": {},
   "outputs": [
    {
     "name": "stdout",
     "output_type": "stream",
     "text": [
      "10\n",
      "9\n",
      "8\n",
      "7\n",
      "6\n",
      "4\n",
      "3\n",
      "2\n",
      "1\n"
     ]
    }
   ],
   "source": [
    "for rev in range(10,0,-1):\n",
    "    if rev == 5:\n",
    "        continue\n",
    "    print(rev)"
   ]
  },
  {
   "cell_type": "code",
   "execution_count": 76,
   "metadata": {},
   "outputs": [
    {
     "name": "stdout",
     "output_type": "stream",
     "text": [
      "Pakistan\n",
      "USA\n"
     ]
    }
   ],
   "source": [
    "for a in \"Pakistan\",\"USA\":\n",
    "    print(a)\n"
   ]
  },
  {
   "cell_type": "code",
   "execution_count": 77,
   "metadata": {},
   "outputs": [
    {
     "name": "stdout",
     "output_type": "stream",
     "text": [
      "P\n",
      "a\n",
      "k\n",
      "i\n",
      "s\n",
      "t\n",
      "a\n",
      "n\n"
     ]
    }
   ],
   "source": [
    "for a in \"Pakistan\":\n",
    "    print(a)"
   ]
  },
  {
   "cell_type": "code",
   "execution_count": 78,
   "metadata": {},
   "outputs": [
    {
     "name": "stdout",
     "output_type": "stream",
     "text": [
      "Which table ? 9\n",
      "Range:8\n",
      "9 x 1 = 9\n",
      "9 x 2 = 18\n",
      "9 x 3 = 27\n",
      "9 x 4 = 36\n",
      "9 x 5 = 45\n",
      "9 x 6 = 54\n",
      "9 x 7 = 63\n",
      "9 x 8 = 72\n"
     ]
    }
   ],
   "source": [
    "table = int(input(\"Which table ? \"))\n",
    "ran= int(input(\"Range:\"))\n",
    "for a in range(1,ran+1):\n",
    "    print(f\"{table} x {a} = {table*a}\")"
   ]
  },
  {
   "cell_type": "code",
   "execution_count": 2,
   "metadata": {},
   "outputs": [
    {
     "name": "stdout",
     "output_type": "stream",
     "text": [
      "Adding mushrooms.\n",
      "Sorry, we don't have french fries.\n",
      "Adding extra cheese.\n"
     ]
    }
   ],
   "source": [
    "available_toppings = ['mushrooms', 'olives', 'green peppers','pepperoni', 'pineapple', 'extra cheese']\n",
    "requested_toppings = ['mushrooms', 'french fries', 'extra cheese']\n",
    "for requested_topping in requested_toppings:\n",
    "    if requested_topping in available_toppings:\n",
    "        print(f\"Adding {requested_topping}.\")\n",
    "    else:\n",
    "        print(f\"Sorry, we don't have {requested_topping}.\")"
   ]
  },
  {
   "cell_type": "code",
   "execution_count": null,
   "metadata": {},
   "outputs": [],
   "source": []
  }
 ],
 "metadata": {
  "kernelspec": {
   "display_name": "Python 3",
   "language": "python",
   "name": "python3"
  },
  "language_info": {
   "codemirror_mode": {
    "name": "ipython",
    "version": 3
   },
   "file_extension": ".py",
   "mimetype": "text/x-python",
   "name": "python",
   "nbconvert_exporter": "python",
   "pygments_lexer": "ipython3",
   "version": "3.7.6"
  }
 },
 "nbformat": 4,
 "nbformat_minor": 4
}
