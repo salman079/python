{
 "cells": [
  {
   "cell_type": "code",
   "execution_count": 1,
   "metadata": {},
   "outputs": [
    {
     "name": "stdout",
     "output_type": "stream",
     "text": [
      "pakistan zindabad+Tooba+Abdullah+Hassan\n",
      "\n",
      "pakistan zindabad+Tooba+Abdullah+Hassan\t ########pakistan zindabad+Tooba+Abdullah+Hassan\n"
     ]
    }
   ],
   "source": [
    "print('pakistan zindabad','Tooba','Abdullah','Hassan',sep = '+', end = '\\n\\n')\n",
    "print('pakistan zindabad','Tooba','Abdullah','Hassan',sep = '+', end = '\\t ########')\n",
    "print('pakistan zindabad','Tooba','Abdullah','Hassan',sep = '+')"
   ]
  },
  {
   "cell_type": "code",
   "execution_count": 2,
   "metadata": {},
   "outputs": [
    {
     "name": "stdout",
     "output_type": "stream",
     "text": [
      "23 90\n",
      "23 90\n"
     ]
    }
   ],
   "source": [
    "a=\"23\"\n",
    "b=\"90\"\n",
    "print(a+\" \"+b)\n",
    "print(f\"{a} {b}\")"
   ]
  },
  {
   "cell_type": "code",
   "execution_count": 3,
   "metadata": {},
   "outputs": [
    {
     "name": "stdout",
     "output_type": "stream",
     "text": [
      "what is your name: 1\n"
     ]
    }
   ],
   "source": [
    "name=input(\"what is your name: \")"
   ]
  },
  {
   "cell_type": "code",
   "execution_count": 4,
   "metadata": {},
   "outputs": [
    {
     "name": "stdout",
     "output_type": "stream",
     "text": [
      "A: 1\n",
      "B: 1\n",
      "2\n"
     ]
    }
   ],
   "source": [
    "a= int(input('A: '))\n",
    "b= int(input('B: '))\n",
    "print(a+b)"
   ]
  },
  {
   "cell_type": "code",
   "execution_count": 5,
   "metadata": {},
   "outputs": [
    {
     "name": "stdout",
     "output_type": "stream",
     "text": [
      "Pakistan Zindabad\n"
     ]
    }
   ],
   "source": [
    "a = \"zindabad\"\n",
    "print(f\"Pakistan {a.title()}\")"
   ]
  },
  {
   "cell_type": "code",
   "execution_count": 6,
   "metadata": {},
   "outputs": [
    {
     "name": "stdout",
     "output_type": "stream",
     "text": [
      "['mango', 'cherry']\n"
     ]
    }
   ],
   "source": [
    "fruits = [\"mango\", \"cherry\"]\n",
    "print(fruits)"
   ]
  },
  {
   "cell_type": "code",
   "execution_count": 7,
   "metadata": {},
   "outputs": [
    {
     "data": {
      "text/plain": [
       "<function list.count(value, /)>"
      ]
     },
     "execution_count": 7,
     "metadata": {},
     "output_type": "execute_result"
    }
   ],
   "source": [
    "fruits.count"
   ]
  },
  {
   "cell_type": "code",
   "execution_count": 8,
   "metadata": {},
   "outputs": [
    {
     "data": {
      "text/plain": [
       "2"
      ]
     },
     "execution_count": 8,
     "metadata": {},
     "output_type": "execute_result"
    }
   ],
   "source": [
    "len(fruits)"
   ]
  },
  {
   "cell_type": "code",
   "execution_count": 9,
   "metadata": {},
   "outputs": [],
   "source": [
    "fruits.append('apple')"
   ]
  },
  {
   "cell_type": "code",
   "execution_count": 10,
   "metadata": {},
   "outputs": [
    {
     "name": "stdout",
     "output_type": "stream",
     "text": [
      "['mango', 'cherry', 'apple']\n"
     ]
    }
   ],
   "source": [
    "print(fruits)"
   ]
  },
  {
   "cell_type": "code",
   "execution_count": 11,
   "metadata": {},
   "outputs": [
    {
     "data": {
      "text/plain": [
       "0"
      ]
     },
     "execution_count": 11,
     "metadata": {},
     "output_type": "execute_result"
    }
   ],
   "source": [
    "fruits.count(\"a\")"
   ]
  },
  {
   "cell_type": "code",
   "execution_count": 12,
   "metadata": {},
   "outputs": [
    {
     "name": "stdout",
     "output_type": "stream",
     "text": [
      "['mango', 'cherry', 'apple']\n"
     ]
    }
   ],
   "source": [
    "print(fruits)"
   ]
  },
  {
   "cell_type": "code",
   "execution_count": 13,
   "metadata": {},
   "outputs": [
    {
     "name": "stdout",
     "output_type": "stream",
     "text": [
      "['almod', 'kajo']\n",
      "['mango', 'cherry', 'apple', 'almod', 'kajo']\n"
     ]
    }
   ],
   "source": [
    "dry_fruits = [\"almod\",\"kajo\"]\n",
    "print(dry_fruits)\n",
    "fruits = fruits + dry_fruits\n",
    "print(fruits)\n"
   ]
  },
  {
   "cell_type": "code",
   "execution_count": 14,
   "metadata": {},
   "outputs": [
    {
     "data": {
      "text/plain": [
       "5"
      ]
     },
     "execution_count": 14,
     "metadata": {},
     "output_type": "execute_result"
    }
   ],
   "source": [
    "len(fruits)"
   ]
  },
  {
   "cell_type": "code",
   "execution_count": 15,
   "metadata": {},
   "outputs": [
    {
     "name": "stdout",
     "output_type": "stream",
     "text": [
      "['mango', 'cherry', 'apple', 'almod', 'pistacho']\n"
     ]
    }
   ],
   "source": [
    "fruits[4]=\"pistacho\"\n",
    "print(fruits)"
   ]
  },
  {
   "cell_type": "code",
   "execution_count": 16,
   "metadata": {},
   "outputs": [
    {
     "name": "stdout",
     "output_type": "stream",
     "text": [
      "['mango', 'cherry', 'apple', 'almod', 'pistacho', 'kiwi']\n"
     ]
    },
    {
     "data": {
      "text/plain": [
       "6"
      ]
     },
     "execution_count": 16,
     "metadata": {},
     "output_type": "execute_result"
    }
   ],
   "source": [
    "fruits.insert(5,\"kiwi\")\n",
    "print(fruits)\n",
    "len(fruits)"
   ]
  },
  {
   "cell_type": "code",
   "execution_count": 17,
   "metadata": {},
   "outputs": [
    {
     "name": "stdout",
     "output_type": "stream",
     "text": [
      "['mango', 'cherry', 'apple', 'almod', 'pistacho']\n"
     ]
    }
   ],
   "source": [
    "fruits.remove(\"kiwi\")\n",
    "print(fruits)"
   ]
  },
  {
   "cell_type": "code",
   "execution_count": 18,
   "metadata": {},
   "outputs": [
    {
     "name": "stdout",
     "output_type": "stream",
     "text": [
      "['test', 'mango', 'cherry', 'apple', 'almod', 'pistacho']\n",
      "['mango', 'cherry', 'apple', 'almod', 'pistacho']\n"
     ]
    }
   ],
   "source": [
    "new_fruit=fruits.copy()\n",
    "fruits.insert(0,\"test\")\n",
    "print(fruits)\n",
    "print(new_fruit)"
   ]
  },
  {
   "cell_type": "code",
   "execution_count": 19,
   "metadata": {},
   "outputs": [
    {
     "name": "stdout",
     "output_type": "stream",
     "text": [
      "['test', 'test', 'mango', 'cherry', 'apple', 'almod', 'pistacho']\n",
      "['test', 'test', 'mango', 'cherry', 'apple', 'almod', 'pistacho']\n"
     ]
    }
   ],
   "source": [
    "fr=fruits\n",
    "fruits.insert(0,\"test\")\n",
    "print(fruits)\n",
    "print(fr)\n"
   ]
  },
  {
   "cell_type": "code",
   "execution_count": 20,
   "metadata": {},
   "outputs": [
    {
     "name": "stdout",
     "output_type": "stream",
     "text": [
      "['test', 'test', 'mango', 'cherry', 'apple', 'almod', 'pistacho', 'blue berry', 'black berry']\n"
     ]
    }
   ],
   "source": [
    "fruits.extend([\"blue berry\",\"black berry\"])\n",
    "print(fruits)"
   ]
  },
  {
   "cell_type": "code",
   "execution_count": 21,
   "metadata": {},
   "outputs": [
    {
     "name": "stdout",
     "output_type": "stream",
     "text": [
      "['mango', 'cherry', 'apple', 'almod', 'pistacho']\n",
      "[]\n"
     ]
    }
   ],
   "source": [
    "print(new_fruit)\n",
    "new_fruit.clear()\n",
    "print(new_fruit)"
   ]
  },
  {
   "cell_type": "code",
   "execution_count": 22,
   "metadata": {},
   "outputs": [
    {
     "name": "stdout",
     "output_type": "stream",
     "text": [
      "['test', 'test', 'mango', 'cherry', 'apple', 'almod', 'pistacho', 'blue berry', 'black berry']\n"
     ]
    },
    {
     "data": {
      "text/plain": [
       "0"
      ]
     },
     "execution_count": 22,
     "metadata": {},
     "output_type": "execute_result"
    }
   ],
   "source": [
    "print(fruits)\n",
    "fruits.index(\"test\") # return the index of first instance of the value"
   ]
  },
  {
   "cell_type": "code",
   "execution_count": 23,
   "metadata": {},
   "outputs": [
    {
     "name": "stdout",
     "output_type": "stream",
     "text": [
      "full list :['test', 'test', 'mango', 'cherry', 'apple', 'almod', 'pistacho', 'blue berry', 'black berry']\n",
      "0-3: ['test', 'test', 'mango']\n",
      "6-last: ['pistacho', 'blue berry', 'black berry']\n",
      "3-6: ['mango', 'apple', 'pistacho']\n"
     ]
    }
   ],
   "source": [
    "initial_fruits = fruits[:3]\n",
    "endding_fruits = fruits[6:]\n",
    "mid_fruits = fruits[2:7:2]\n",
    "print(f\"full list :{fruits}\")\n",
    "print(f\"0-3: {initial_fruits}\")\n",
    "print(f\"6-last: {endding_fruits}\")\n",
    "print(f\"3-6: {mid_fruits}\")\n"
   ]
  },
  {
   "cell_type": "code",
   "execution_count": 24,
   "metadata": {},
   "outputs": [
    {
     "name": "stdout",
     "output_type": "stream",
     "text": [
      "['test', 'test', 'mango', 'cherry', 'apple', 'almod', 'pistacho', 'blue berry', 'black berry']\n",
      "['almod', 'mango']\n",
      "['almod', 'pistacho', 'mango']\n"
     ]
    }
   ],
   "source": [
    "poped_fruits = []\n",
    "print(fruits)\n",
    "poped_fruits.extend([fruits.pop(5),fruits.pop(2)])\n",
    "print(poped_fruits)\n",
    "poped_fruits.insert(1,fruits.pop(4))\n",
    "# poped_fruits = [initial_fruits.pop(1)+ mid_fruits.pop(1)+ endding_fruits(1)]\n",
    "print(poped_fruits)"
   ]
  },
  {
   "cell_type": "code",
   "execution_count": 25,
   "metadata": {
    "scrolled": true
   },
   "outputs": [
    {
     "name": "stdout",
     "output_type": "stream",
     "text": [
      "['test', 'test', 'cherry', 'apple', 'blue berry', 'black berry']\n",
      "Reverse: ['black berry', 'blue berry', 'apple', 'cherry', 'test', 'test']\n",
      "sort assending: ['apple', 'black berry', 'blue berry', 'cherry', 'test', 'test']\n",
      "sort decending: ['test', 'test', 'cherry', 'blue berry', 'black berry', 'apple']\n"
     ]
    }
   ],
   "source": [
    "print(fruits)\n",
    "fruits.reverse()\n",
    "print(f\"Reverse: {fruits}\")\n",
    "fruits.sort()\n",
    "print(f\"sort assending: {fruits}\")\n",
    "fruits.sort(reverse=True)\n",
    "print(f\"sort decending: {fruits}\")"
   ]
  },
  {
   "cell_type": "markdown",
   "metadata": {},
   "source": []
  },
  {
   "cell_type": "markdown",
   "metadata": {},
   "source": [
    "# Tupple"
   ]
  },
  {
   "cell_type": "code",
   "execution_count": 26,
   "metadata": {},
   "outputs": [
    {
     "name": "stdout",
     "output_type": "stream",
     "text": [
      "('apple', 500, 24.43)\n"
     ]
    }
   ],
   "source": [
    "tup = (\"apple\", 500, 24.43)\n",
    "print(tup)"
   ]
  },
  {
   "cell_type": "markdown",
   "metadata": {},
   "source": [
    "# LIST in a LIST"
   ]
  },
  {
   "cell_type": "code",
   "execution_count": 27,
   "metadata": {},
   "outputs": [],
   "source": [
    "    l_l = [\n",
    "    [1, 2, 3],\n",
    "    [4, 5, 6],\n",
    "    [7, 8, 9]\n",
    "]"
   ]
  },
  {
   "cell_type": "code",
   "execution_count": 28,
   "metadata": {},
   "outputs": [
    {
     "name": "stdout",
     "output_type": "stream",
     "text": [
      "1\n",
      "2\n",
      "3\n",
      "4\n",
      "5\n",
      "6\n",
      "7\n",
      "8\n",
      "9\n"
     ]
    }
   ],
   "source": [
    "for a in l_l:\n",
    "    for b in a:\n",
    "        print(b)"
   ]
  },
  {
   "cell_type": "code",
   "execution_count": 29,
   "metadata": {},
   "outputs": [
    {
     "name": "stdout",
     "output_type": "stream",
     "text": [
      "9\n"
     ]
    }
   ],
   "source": [
    "print(l_l[2][2])"
   ]
  },
  {
   "cell_type": "code",
   "execution_count": 30,
   "metadata": {},
   "outputs": [
    {
     "ename": "ValueError",
     "evalue": "1 is not in list",
     "output_type": "error",
     "traceback": [
      "\u001b[0;31m---------------------------------------------------------------------------\u001b[0m",
      "\u001b[0;31mValueError\u001b[0m                                Traceback (most recent call last)",
      "\u001b[0;32m<ipython-input-30-3290a34e6832>\u001b[0m in \u001b[0;36m<module>\u001b[0;34m\u001b[0m\n\u001b[0;32m----> 1\u001b[0;31m \u001b[0mprint\u001b[0m\u001b[0;34m(\u001b[0m\u001b[0ml_l\u001b[0m\u001b[0;34m.\u001b[0m\u001b[0mindex\u001b[0m\u001b[0;34m(\u001b[0m\u001b[0;36m1\u001b[0m\u001b[0;34m)\u001b[0m\u001b[0;34m)\u001b[0m\u001b[0;34m\u001b[0m\u001b[0;34m\u001b[0m\u001b[0m\n\u001b[0m",
      "\u001b[0;31mValueError\u001b[0m: 1 is not in list"
     ]
    }
   ],
   "source": [
    "print(l_l.index(1))"
   ]
  },
  {
   "cell_type": "markdown",
   "metadata": {},
   "source": [
    "# Delete duplicate values from list "
   ]
  },
  {
   "cell_type": "code",
   "execution_count": 39,
   "metadata": {},
   "outputs": [
    {
     "name": "stdout",
     "output_type": "stream",
     "text": [
      "[9, 89, 24, 23, 24, 0, 42, 94, 42, 9, 9, 42, 0]\n",
      "[9, 89, 24, 23, 0, 42, 94]\n"
     ]
    }
   ],
   "source": [
    "a = [9,89,24,23,24,0,42,94,42,9,9,42,0]\n",
    "unique =[]\n",
    "for i in a:\n",
    "    if i not in unique:\n",
    "        unique.append(i)\n",
    "print(a)\n",
    "print(unique)"
   ]
  },
  {
   "cell_type": "code",
   "execution_count": 43,
   "metadata": {},
   "outputs": [
    {
     "data": {
      "text/plain": [
       "{0, 9, 23, 24, 42, 89, 94}"
      ]
     },
     "execution_count": 43,
     "metadata": {},
     "output_type": "execute_result"
    }
   ],
   "source": [
    "# set as data structure\n",
    "data_setting=set(a)\n",
    "data_setting"
   ]
  },
  {
   "cell_type": "code",
   "execution_count": 32,
   "metadata": {},
   "outputs": [
    {
     "name": "stdout",
     "output_type": "stream",
     "text": [
      "[9, 89, 23, 24, 0, 42, 94, 42, 9, 9, 42, 0, 42]\n",
      "[0, 0, 9, 9, 9, 23, 24, 42, 42, 42, 42, 89, 94]\n",
      "0 0\n",
      "0 duplicate value: 0\n",
      "0 0\n",
      "2 9\n",
      "9 duplicate value: 9\n",
      "2 9\n",
      "9 duplicate value: 9\n",
      "2 9\n",
      "5 23\n",
      "6 24\n",
      "7 42\n",
      "42 duplicate value: 42\n",
      "7 42\n",
      "42 duplicate value: 42\n",
      "7 42\n",
      "42 duplicate value: 42\n",
      "7 42\n",
      "11 89\n",
      "12 94\n",
      "[0, 0, 9, 9, 9, 23, 24, 42, 42, 42, 42, 89, 94]\n",
      "duplicate index [1, 3, 4, 8, 9, 10]\n",
      "duplicate value [0, 9, 9, 42, 42, 42]\n"
     ]
    }
   ],
   "source": [
    "a = [9,89,23,24,0,42,94,42,9,9,42,0,42]\n",
    "print(a)\n",
    "a.sort()\n",
    "print(a)\n",
    "dup = []\n",
    "val = []\n",
    "b=\"\"\n",
    "ind = 0\n",
    "for i in a:\n",
    "    if b == i:\n",
    "   # if b in i:\n",
    "        print(f\"{b} duplicate value: {i}\")\n",
    "        dup.append(ind)\n",
    "        val.append(b)\n",
    "       # a.remove(b)\n",
    "    b=i\n",
    "    ind += 1\n",
    "    print(a.index(i), i)\n",
    "print(a)\n",
    "print(f\"duplicate index {dup}\")\n",
    "print(f\"duplicate value {val}\")"
   ]
  },
  {
   "cell_type": "markdown",
   "metadata": {},
   "source": [
    "# Unpacking a list"
   ]
  },
  {
   "cell_type": "code",
   "execution_count": 33,
   "metadata": {},
   "outputs": [
    {
     "name": "stdout",
     "output_type": "stream",
     "text": [
      "2\n"
     ]
    }
   ],
   "source": [
    "unpacking = [1,2,3]\n",
    "x,y,z = unpacking\n",
    "print(y)"
   ]
  },
  {
   "cell_type": "markdown",
   "metadata": {},
   "source": [
    "# Min, Max, Sum"
   ]
  },
  {
   "cell_type": "code",
   "execution_count": 34,
   "metadata": {},
   "outputs": [
    {
     "name": "stdout",
     "output_type": "stream",
     "text": [
      "11\n",
      "1\n",
      "66\n",
      "5 is in listing\n",
      "12 not in the listing\n"
     ]
    }
   ],
   "source": [
    "listing = [1,2,3,4,5,6,7,8,9,10,11]\n",
    "print(max(listing))\n",
    "print(min(listing))\n",
    "print(sum(listing))\n",
    "if 5 in listing:\n",
    "    print(\"5 is in listing\")\n",
    "if 12 not in listing:\n",
    "    print(\"12 not in the listing\")\n",
    "else:\n",
    "        print(\"12 is in the list\")"
   ]
  },
  {
   "cell_type": "markdown",
   "metadata": {},
   "source": [
    "# Slicing in Loop"
   ]
  },
  {
   "cell_type": "code",
   "execution_count": 35,
   "metadata": {},
   "outputs": [
    {
     "name": "stdout",
     "output_type": "stream",
     "text": [
      "1 2 3 4 5 "
     ]
    }
   ],
   "source": [
    "for i in listing[:5]:\n",
    "    print(i, end=\" \")"
   ]
  },
  {
   "cell_type": "code",
   "execution_count": null,
   "metadata": {},
   "outputs": [],
   "source": []
  }
 ],
 "metadata": {
  "celltoolbar": "Raw Cell Format",
  "kernelspec": {
   "display_name": "Python 3",
   "language": "python",
   "name": "python3"
  },
  "language_info": {
   "codemirror_mode": {
    "name": "ipython",
    "version": 3
   },
   "file_extension": ".py",
   "mimetype": "text/x-python",
   "name": "python",
   "nbconvert_exporter": "python",
   "pygments_lexer": "ipython3",
   "version": "3.7.6"
  }
 },
 "nbformat": 4,
 "nbformat_minor": 4
}
