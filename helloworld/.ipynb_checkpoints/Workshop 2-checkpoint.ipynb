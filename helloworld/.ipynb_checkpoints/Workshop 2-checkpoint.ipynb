{
 "cells": [
  {
   "cell_type": "markdown",
   "metadata": {},
   "source": [
    "# Formatting \n",
    "1) .format\n",
    "2) %\n",
    "3) f\n",
    "4) +"
   ]
  },
  {
   "cell_type": "code",
   "execution_count": 4,
   "metadata": {},
   "outputs": [
    {
     "name": "stdout",
     "output_type": "stream",
     "text": [
      "\n",
      "PIAIC Admit Card\n",
      "Name: Salman\n",
      "Father's name: Zaki\n",
      "Age: 40\n",
      "Gender: Male\n"
     ]
    }
   ],
   "source": [
    "name = \"Salman\"\n",
    "f_name = \"Zaki\"\n",
    "age = 40\n",
    "gender =\"Male\"\n",
    "card=\"\"\"\n",
    "PIAIC Admit Card\n",
    "Name: {}\n",
    "Father's name: {}\n",
    "Age: {}\n",
    "Gender: {}\"\"\"\n",
    "print(card.format(name,f_name,age,gender))"
   ]
  },
  {
   "cell_type": "code",
   "execution_count": 5,
   "metadata": {},
   "outputs": [
    {
     "name": "stdout",
     "output_type": "stream",
     "text": [
      "\n",
      "PIAIC Admit Card\n",
      "Name: Abdullah\n",
      "Father's name: Salman\n",
      "Age: Male\n",
      "Gender: 6\n"
     ]
    }
   ],
   "source": [
    "name1 = \"Abdullah\"\n",
    "f_name1 = \"Salman\"\n",
    "age1 = 6\n",
    "gender1 =\"Male\"\n",
    "card1 =\"\"\"\n",
    "PIAIC Admit Card\n",
    "Name: {0}\n",
    "Father's name: {1}\n",
    "Age: {3}\n",
    "Gender: {2}\"\"\"\n",
    "print(card1.format(name1,f_name1,age1,gender1))"
   ]
  },
  {
   "cell_type": "code",
   "execution_count": 9,
   "metadata": {},
   "outputs": [
    {
     "name": "stdout",
     "output_type": "stream",
     "text": [
      "\n",
      "PIAIC Admit Card\n",
      "Name: Tooba\n",
      "Father's name: Salman\n",
      "Age: 8\n",
      "Gender: Female\n"
     ]
    }
   ],
   "source": [
    "name2 = \"Tooba\"\n",
    "f_name2 = \"Salman\"\n",
    "age2 = 8\n",
    "gender2 =\"Female\"\n",
    "card2 =f\"\"\"\n",
    "PIAIC Admit Card\n",
    "Name: {name2}\n",
    "Father's name: {f_name2}\n",
    "Age: {age2}\n",
    "Gender: {gender2}\"\"\"\n",
    "print(card2)"
   ]
  },
  {
   "cell_type": "code",
   "execution_count": 13,
   "metadata": {},
   "outputs": [
    {
     "name": "stdout",
     "output_type": "stream",
     "text": [
      "\n",
      "PIAIC Admit Card\n",
      "Name: Hassan\n",
      "Father's name: Salman\n",
      "Age: 0.600000\n",
      "Gender: Male\n"
     ]
    }
   ],
   "source": [
    "name3 = \"Hassan\"\n",
    "f_name3 = \"Salman\"\n",
    "age3 = 0.6\n",
    "gender3 = \"Male\"\n",
    "card3 =f\"\"\"\n",
    "PIAIC Admit Card\n",
    "Name: %s\n",
    "Father's name: %s\n",
    "Age: %f\n",
    "Gender: %s\"\"\"%(name3,f_name3,age3,gender3)\n",
    "print(card3)"
   ]
  },
  {
   "cell_type": "code",
   "execution_count": 18,
   "metadata": {},
   "outputs": [
    {
     "name": "stdout",
     "output_type": "stream",
     "text": [
      "PIAIC Admit Card \n",
      "Name: Hassan\n",
      "Father's name: Salman\n",
      "Age: 0.6\n",
      "Gender: Male\n"
     ]
    }
   ],
   "source": [
    "name4 = \"Hassan\"\n",
    "f_name4 = \"Salman\"\n",
    "age4 = 0.6\n",
    "gender4 = \"Male\"\n",
    "card4 =f\"PIAIC Admit Card \\nName: \" + name4 + \"\\nFather's name: \" + f_name4 + \"\\nAge: \" + str(age4) + \"\\nGender: \" + gender4\n",
    "print(card4)"
   ]
  },
  {
   "cell_type": "markdown",
   "metadata": {},
   "source": [
    "# Comments"
   ]
  },
  {
   "cell_type": "code",
   "execution_count": 21,
   "metadata": {},
   "outputs": [
    {
     "name": "stdout",
     "output_type": "stream",
     "text": [
      "ABC\n"
     ]
    }
   ],
   "source": [
    "# Ctrl / for comments\n",
    "'''\n",
    "Multi line \n",
    "Commments \n",
    "'''\n",
    "print(\"ABC\")"
   ]
  },
  {
   "cell_type": "code",
   "execution_count": null,
   "metadata": {},
   "outputs": [],
   "source": [
    "    "
   ]
  }
 ],
 "metadata": {
  "kernelspec": {
   "display_name": "Python 3",
   "language": "python",
   "name": "python3"
  },
  "language_info": {
   "codemirror_mode": {
    "name": "ipython",
    "version": 3
   },
   "file_extension": ".py",
   "mimetype": "text/x-python",
   "name": "python",
   "nbconvert_exporter": "python",
   "pygments_lexer": "ipython3",
   "version": "3.7.6"
  }
 },
 "nbformat": 4,
 "nbformat_minor": 4
}
