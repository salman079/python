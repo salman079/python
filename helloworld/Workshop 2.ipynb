{
 "cells": [
  {
   "cell_type": "markdown",
   "metadata": {
    "colab_type": "text",
    "id": "3PfCnxT4voEs"
   },
   "source": [
    "# Formatting \n",
    "1) .format\n",
    "2) %\n",
    "3) f\n",
    "4) +"
   ]
  },
  {
   "cell_type": "code",
   "execution_count": 1,
   "metadata": {
    "colab": {
     "base_uri": "https://localhost:8080/",
     "height": 119
    },
    "colab_type": "code",
    "executionInfo": {
     "elapsed": 866,
     "status": "ok",
     "timestamp": 1591002631389,
     "user": {
      "displayName": "Salman Ullah Siddiqui",
      "photoUrl": "",
      "userId": "03664566726939212040"
     },
     "user_tz": -180
    },
    "id": "-sU83Rg7voEv",
    "outputId": "ab2dcc3e-81c0-420a-e6c1-481d5c3928ff"
   },
   "outputs": [
    {
     "name": "stdout",
     "output_type": "stream",
     "text": [
      "\n",
      "PIAIC Admit Card\n",
      "Name: Salman\n",
      "Father's name: Zaki\n",
      "Age: 40\n",
      "Gender: Male\n"
     ]
    }
   ],
   "source": [
    "name = \"Salman\"\n",
    "f_name = \"Zaki\"\n",
    "age = 40\n",
    "gender =\"Male\"\n",
    "card=\"\"\"\n",
    "PIAIC Admit Card\n",
    "Name: {}\n",
    "Father's name: {}\n",
    "Age: {}\n",
    "Gender: {}\"\"\"\n",
    "print(card.format(name,f_name,age,gender))"
   ]
  },
  {
   "cell_type": "code",
   "execution_count": 2,
   "metadata": {
    "colab": {
     "base_uri": "https://localhost:8080/",
     "height": 119
    },
    "colab_type": "code",
    "executionInfo": {
     "elapsed": 1459,
     "status": "ok",
     "timestamp": 1591002631992,
     "user": {
      "displayName": "Salman Ullah Siddiqui",
      "photoUrl": "",
      "userId": "03664566726939212040"
     },
     "user_tz": -180
    },
    "id": "onb2A2TevoE4",
    "outputId": "a6a3d3a6-53dd-4ad0-ada7-3f491c9d8875"
   },
   "outputs": [
    {
     "name": "stdout",
     "output_type": "stream",
     "text": [
      "\n",
      "PIAIC Admit Card\n",
      "Name: Abdullah\n",
      "Father's name: Salman\n",
      "Age: Male\n",
      "Gender: 6\n"
     ]
    }
   ],
   "source": [
    "name1 = \"Abdullah\"\n",
    "f_name1 = \"Salman\"\n",
    "age1 = 6\n",
    "gender1 =\"Male\"\n",
    "card1 =\"\"\"\n",
    "PIAIC Admit Card\n",
    "Name: {0}\n",
    "Father's name: {1}\n",
    "Age: {3}\n",
    "Gender: {2}\"\"\"\n",
    "print(card1.format(name1,f_name1,age1,gender1))"
   ]
  },
  {
   "cell_type": "code",
   "execution_count": 3,
   "metadata": {
    "colab": {
     "base_uri": "https://localhost:8080/",
     "height": 119
    },
    "colab_type": "code",
    "executionInfo": {
     "elapsed": 1451,
     "status": "ok",
     "timestamp": 1591002631993,
     "user": {
      "displayName": "Salman Ullah Siddiqui",
      "photoUrl": "",
      "userId": "03664566726939212040"
     },
     "user_tz": -180
    },
    "id": "8avtp7hOvoFA",
    "outputId": "ae61c12b-0670-483c-84de-b718b82ec857"
   },
   "outputs": [
    {
     "name": "stdout",
     "output_type": "stream",
     "text": [
      "\n",
      "PIAIC Admit Card\n",
      "Name: Tooba\n",
      "Father's name: Salman\n",
      "Age: 8\n",
      "Gender: Female\n"
     ]
    }
   ],
   "source": [
    "name2 = \"Tooba\"\n",
    "f_name2 = \"Salman\"\n",
    "age2 = 8\n",
    "gender2 =\"Female\"\n",
    "card2 =f\"\"\"\n",
    "PIAIC Admit Card\n",
    "Name: {name2}\n",
    "Father's name: {f_name2}\n",
    "Age: {age2}\n",
    "Gender: {gender2}\"\"\"\n",
    "print(card2)"
   ]
  },
  {
   "cell_type": "code",
   "execution_count": 4,
   "metadata": {
    "colab": {
     "base_uri": "https://localhost:8080/",
     "height": 119
    },
    "colab_type": "code",
    "executionInfo": {
     "elapsed": 1440,
     "status": "ok",
     "timestamp": 1591002631993,
     "user": {
      "displayName": "Salman Ullah Siddiqui",
      "photoUrl": "",
      "userId": "03664566726939212040"
     },
     "user_tz": -180
    },
    "id": "mF0dFQGOvoFI",
    "outputId": "1c91f0c6-b11b-40bf-b198-4acb310ef7c7"
   },
   "outputs": [
    {
     "name": "stdout",
     "output_type": "stream",
     "text": [
      "\n",
      "PIAIC Admit Card\n",
      "Name: Hassan\n",
      "Father's name: Salman\n",
      "Age: 0.600000\n",
      "Gender: Male\n"
     ]
    }
   ],
   "source": [
    "name3 = \"Hassan\"\n",
    "f_name3 = \"Salman\"\n",
    "age3 = 0.6\n",
    "gender3 = \"Male\"\n",
    "card3 =f\"\"\"\n",
    "PIAIC Admit Card\n",
    "Name: %s\n",
    "Father's name: %s\n",
    "Age: %f\n",
    "Gender: %s\"\"\"%(name3,f_name3,age3,gender3)\n",
    "print(card3)"
   ]
  },
  {
   "cell_type": "code",
   "execution_count": 5,
   "metadata": {
    "colab": {
     "base_uri": "https://localhost:8080/",
     "height": 102
    },
    "colab_type": "code",
    "executionInfo": {
     "elapsed": 1434,
     "status": "ok",
     "timestamp": 1591002631994,
     "user": {
      "displayName": "Salman Ullah Siddiqui",
      "photoUrl": "",
      "userId": "03664566726939212040"
     },
     "user_tz": -180
    },
    "id": "h543pGCIvoFR",
    "outputId": "d421506b-5b99-4922-90ee-b71016c6813d"
   },
   "outputs": [
    {
     "name": "stdout",
     "output_type": "stream",
     "text": [
      "PIAIC Admit Card \n",
      "Name: Hassan\n",
      "Father's name: Salman\n",
      "Age: 0.6\n",
      "Gender: Male\n"
     ]
    }
   ],
   "source": [
    "name4 = \"Hassan\"\n",
    "f_name4 = \"Salman\"\n",
    "age4 = 0.6\n",
    "gender4 = \"Male\"\n",
    "card4 =f\"PIAIC Admit Card \\nName: \" + name4 + \"\\nFather's name: \" + f_name4 + \"\\nAge: \" + str(age4) + \"\\nGender: \" + gender4\n",
    "print(card4)"
   ]
  },
  {
   "cell_type": "markdown",
   "metadata": {
    "colab_type": "text",
    "id": "z_4oTS75voFZ"
   },
   "source": [
    "# Comments"
   ]
  },
  {
   "cell_type": "code",
   "execution_count": 6,
   "metadata": {
    "colab": {
     "base_uri": "https://localhost:8080/",
     "height": 34
    },
    "colab_type": "code",
    "executionInfo": {
     "elapsed": 1427,
     "status": "ok",
     "timestamp": 1591002631995,
     "user": {
      "displayName": "Salman Ullah Siddiqui",
      "photoUrl": "",
      "userId": "03664566726939212040"
     },
     "user_tz": -180
    },
    "id": "P2kUT7G-voFa",
    "outputId": "e00ac0e6-6ce2-420f-c18f-16d839f6b59b"
   },
   "outputs": [
    {
     "name": "stdout",
     "output_type": "stream",
     "text": [
      "ABC\n"
     ]
    }
   ],
   "source": [
    "# Ctrl / for comments\n",
    "'''\n",
    "Multi line \n",
    "Commments \n",
    "'''\n",
    "print(\"ABC\")"
   ]
  },
  {
   "cell_type": "code",
   "execution_count": 7,
   "metadata": {
    "colab": {
     "base_uri": "https://localhost:8080/",
     "height": 1000
    },
    "colab_type": "code",
    "executionInfo": {
     "elapsed": 1420,
     "status": "ok",
     "timestamp": 1591002631996,
     "user": {
      "displayName": "Salman Ullah Siddiqui",
      "photoUrl": "",
      "userId": "03664566726939212040"
     },
     "user_tz": -180
    },
    "id": "VH0QwLhmvoFm",
    "outputId": "a5bdd347-b6dc-4408-ad1d-3e3952a13ae9"
   },
   "outputs": [
    {
     "data": {
      "text/plain": [
       "['__add__',\n",
       " '__class__',\n",
       " '__contains__',\n",
       " '__delattr__',\n",
       " '__dir__',\n",
       " '__doc__',\n",
       " '__eq__',\n",
       " '__format__',\n",
       " '__ge__',\n",
       " '__getattribute__',\n",
       " '__getitem__',\n",
       " '__getnewargs__',\n",
       " '__gt__',\n",
       " '__hash__',\n",
       " '__init__',\n",
       " '__init_subclass__',\n",
       " '__iter__',\n",
       " '__le__',\n",
       " '__len__',\n",
       " '__lt__',\n",
       " '__mod__',\n",
       " '__mul__',\n",
       " '__ne__',\n",
       " '__new__',\n",
       " '__reduce__',\n",
       " '__reduce_ex__',\n",
       " '__repr__',\n",
       " '__rmod__',\n",
       " '__rmul__',\n",
       " '__setattr__',\n",
       " '__sizeof__',\n",
       " '__str__',\n",
       " '__subclasshook__',\n",
       " 'capitalize',\n",
       " 'casefold',\n",
       " 'center',\n",
       " 'count',\n",
       " 'encode',\n",
       " 'endswith',\n",
       " 'expandtabs',\n",
       " 'find',\n",
       " 'format',\n",
       " 'format_map',\n",
       " 'index',\n",
       " 'isalnum',\n",
       " 'isalpha',\n",
       " 'isascii',\n",
       " 'isdecimal',\n",
       " 'isdigit',\n",
       " 'isidentifier',\n",
       " 'islower',\n",
       " 'isnumeric',\n",
       " 'isprintable',\n",
       " 'isspace',\n",
       " 'istitle',\n",
       " 'isupper',\n",
       " 'join',\n",
       " 'ljust',\n",
       " 'lower',\n",
       " 'lstrip',\n",
       " 'maketrans',\n",
       " 'partition',\n",
       " 'replace',\n",
       " 'rfind',\n",
       " 'rindex',\n",
       " 'rjust',\n",
       " 'rpartition',\n",
       " 'rsplit',\n",
       " 'rstrip',\n",
       " 'split',\n",
       " 'splitlines',\n",
       " 'startswith',\n",
       " 'strip',\n",
       " 'swapcase',\n",
       " 'title',\n",
       " 'translate',\n",
       " 'upper',\n",
       " 'zfill']"
      ]
     },
     "execution_count": 7,
     "metadata": {},
     "output_type": "execute_result"
    }
   ],
   "source": [
    "    name10 = \"saloo bhai\" # use . to see the build in function or method\n",
    "    dir(name10) # to list down all the method all other than __ "
   ]
  },
  {
   "cell_type": "code",
   "execution_count": 8,
   "metadata": {
    "colab": {
     "base_uri": "https://localhost:8080/",
     "height": 34
    },
    "colab_type": "code",
    "executionInfo": {
     "elapsed": 1416,
     "status": "ok",
     "timestamp": 1591002631996,
     "user": {
      "displayName": "Salman Ullah Siddiqui",
      "photoUrl": "",
      "userId": "03664566726939212040"
     },
     "user_tz": -180
    },
    "id": "LeUQXNkH3bKS",
    "outputId": "556712de-3f52-4302-ba38-bf5eb34d9e3d"
   },
   "outputs": [
    {
     "name": "stdout",
     "output_type": "stream",
     "text": [
      "Object `Name10.count` not found.\n"
     ]
    }
   ],
   "source": [
    "   # how to get help \n",
    "   # variable help --- (1) variableName? (2) variableName?? (3)?variableName (4)help(variableName)\n",
    "   Name10.count?"
   ]
  },
  {
   "cell_type": "code",
   "execution_count": 9,
   "metadata": {
    "colab": {
     "base_uri": "https://localhost:8080/",
     "height": 34
    },
    "colab_type": "code",
    "executionInfo": {
     "elapsed": 1407,
     "status": "ok",
     "timestamp": 1591002631997,
     "user": {
      "displayName": "Salman Ullah Siddiqui",
      "photoUrl": "",
      "userId": "03664566726939212040"
     },
     "user_tz": -180
    },
    "id": "MHaZlxi57CHW",
    "outputId": "b52fa86e-da91-412f-ff99-8375bd7dd25f"
   },
   "outputs": [
    {
     "name": "stdout",
     "output_type": "stream",
     "text": [
      "15\n"
     ]
    }
   ],
   "source": [
    "def abc(x):\n",
    "  return x + 10\n",
    "\n",
    "a = abc(5)\n",
    "print(a)"
   ]
  },
  {
   "cell_type": "code",
   "execution_count": 10,
   "metadata": {
    "colab": {
     "base_uri": "https://localhost:8080/",
     "height": 34
    },
    "colab_type": "code",
    "executionInfo": {
     "elapsed": 1400,
     "status": "ok",
     "timestamp": 1591002631997,
     "user": {
      "displayName": "Salman Ullah Siddiqui",
      "photoUrl": "",
      "userId": "03664566726939212040"
     },
     "user_tz": -180
    },
    "id": "5gk2qG5C7RRg",
    "outputId": "643e564b-b81a-4089-c130-6b7f8c1e110d"
   },
   "outputs": [
    {
     "name": "stdout",
     "output_type": "stream",
     "text": [
      "15\n"
     ]
    }
   ],
   "source": [
    "a = abc(5)\n",
    "print(a)"
   ]
  },
  {
   "cell_type": "code",
   "execution_count": 11,
   "metadata": {
    "colab": {},
    "colab_type": "code",
    "id": "l--qhiOHJOxs"
   },
   "outputs": [],
   "source": [
    "# method uses ()\n",
    "# attribute does not have ()"
   ]
  },
  {
   "cell_type": "code",
   "execution_count": 12,
   "metadata": {
    "colab": {
     "base_uri": "https://localhost:8080/",
     "height": 34
    },
    "colab_type": "code",
    "executionInfo": {
     "elapsed": 924,
     "status": "ok",
     "timestamp": 1591031942387,
     "user": {
      "displayName": "Salman Ullah Siddiqui",
      "photoUrl": "",
      "userId": "03664566726939212040"
     },
     "user_tz": -180
    },
    "id": "o9o1GYbGJWpu",
    "outputId": "1d3c377c-07ed-4690-82e1-2a63f0cd5149"
   },
   "outputs": [
    {
     "name": "stdout",
     "output_type": "stream",
     "text": [
      "my name is 909 and rollnumber salman\n"
     ]
    }
   ],
   "source": [
    "aaa=\"salman\"\n",
    "bbb=909\n",
    "\n",
    "print(\"my name is {1} and rollnumber {0}\".format(aaa,bbb))"
   ]
  },
  {
   "cell_type": "code",
   "execution_count": 13,
   "metadata": {
    "colab": {
     "base_uri": "https://localhost:8080/",
     "height": 34
    },
    "colab_type": "code",
    "executionInfo": {
     "elapsed": 806,
     "status": "ok",
     "timestamp": 1591032331660,
     "user": {
      "displayName": "Salman Ullah Siddiqui",
      "photoUrl": "",
      "userId": "03664566726939212040"
     },
     "user_tz": -180
    },
    "id": "nhrbWI3Z5urk",
    "outputId": "28bec439-dd41-40d6-9073-7af0fdfb8195"
   },
   "outputs": [
    {
     "data": {
      "text/plain": [
       "86.2"
      ]
     },
     "execution_count": 13,
     "metadata": {},
     "output_type": "execute_result"
    }
   ],
   "source": [
    "amn =2*3/5+4/4*5*(2+5*3)\n",
    "amn"
   ]
  },
  {
   "cell_type": "code",
   "execution_count": 14,
   "metadata": {
    "colab": {
     "base_uri": "https://localhost:8080/",
     "height": 34
    },
    "colab_type": "code",
    "executionInfo": {
     "elapsed": 670,
     "status": "ok",
     "timestamp": 1591032777363,
     "user": {
      "displayName": "Salman Ullah Siddiqui",
      "photoUrl": "",
      "userId": "03664566726939212040"
     },
     "user_tz": -180
    },
    "id": "6J_WVqof7ROA",
    "outputId": "bc473fe5-8626-4088-bc01-69890457f45f"
   },
   "outputs": [
    {
     "data": {
      "text/plain": [
       "8.0"
      ]
     },
     "execution_count": 14,
     "metadata": {},
     "output_type": "execute_result"
    }
   ],
   "source": [
    "4+4*3//5+10/5"
   ]
  }
 ],
 "metadata": {
  "colab": {
   "name": "Workshop 2.ipynb",
   "provenance": []
  },
  "kernelspec": {
   "display_name": "Python 3",
   "language": "python",
   "name": "python3"
  },
  "language_info": {
   "codemirror_mode": {
    "name": "ipython",
    "version": 3
   },
   "file_extension": ".py",
   "mimetype": "text/x-python",
   "name": "python",
   "nbconvert_exporter": "python",
   "pygments_lexer": "ipython3",
   "version": "3.7.6"
  }
 },
 "nbformat": 4,
 "nbformat_minor": 1
}
