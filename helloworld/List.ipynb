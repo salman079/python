{
 "cells": [
  {
   "cell_type": "code",
   "execution_count": 1,
   "metadata": {
    "colab": {
     "base_uri": "https://localhost:8080/",
     "height": 68
    },
    "colab_type": "code",
    "executionInfo": {
     "elapsed": 903,
     "status": "ok",
     "timestamp": 1591002713098,
     "user": {
      "displayName": "Salman Ullah Siddiqui",
      "photoUrl": "",
      "userId": "03664566726939212040"
     },
     "user_tz": -180
    },
    "id": "xexdJ5VuJiTu",
    "outputId": "83cf6496-0b40-4d4b-e819-b41df8349303"
   },
   "outputs": [
    {
     "name": "stdout",
     "output_type": "stream",
     "text": [
      "pakistan zindabad+Tooba+Abdullah+Hassan\n",
      "\n",
      "pakistan zindabad+Tooba+Abdullah+Hassan\t ########pakistan zindabad+Tooba+Abdullah+Hassan\n"
     ]
    }
   ],
   "source": [
    "print('pakistan zindabad','Tooba','Abdullah','Hassan',sep = '+', end = '\\n\\n')\n",
    "print('pakistan zindabad','Tooba','Abdullah','Hassan',sep = '+', end = '\\t ########')\n",
    "print('pakistan zindabad','Tooba','Abdullah','Hassan',sep = '+')"
   ]
  },
  {
   "cell_type": "code",
   "execution_count": 2,
   "metadata": {
    "colab": {
     "base_uri": "https://localhost:8080/",
     "height": 51
    },
    "colab_type": "code",
    "executionInfo": {
     "elapsed": 1232,
     "status": "ok",
     "timestamp": 1591002713436,
     "user": {
      "displayName": "Salman Ullah Siddiqui",
      "photoUrl": "",
      "userId": "03664566726939212040"
     },
     "user_tz": -180
    },
    "id": "x0hnzaVWJiT3",
    "outputId": "3d0df78e-2236-49c1-f62f-2cd0a0c98448"
   },
   "outputs": [
    {
     "name": "stdout",
     "output_type": "stream",
     "text": [
      "23 90\n",
      "23 90\n"
     ]
    }
   ],
   "source": [
    "a=\"23\"\n",
    "b=\"90\"\n",
    "print(a+\" \"+b)\n",
    "print(f\"{a} {b}\")"
   ]
  },
  {
   "cell_type": "code",
   "execution_count": 3,
   "metadata": {
    "colab": {
     "base_uri": "https://localhost:8080/",
     "height": 34
    },
    "colab_type": "code",
    "executionInfo": {
     "elapsed": 6645,
     "status": "ok",
     "timestamp": 1591002718870,
     "user": {
      "displayName": "Salman Ullah Siddiqui",
      "photoUrl": "",
      "userId": "03664566726939212040"
     },
     "user_tz": -180
    },
    "id": "aT-tebAsJiUA",
    "outputId": "14fd9c21-e00c-4329-a76c-a35f39591729"
   },
   "outputs": [
    {
     "name": "stdout",
     "output_type": "stream",
     "text": [
      "what is your name: Salman\n"
     ]
    }
   ],
   "source": [
    "name=input(\"what is your name: \")"
   ]
  },
  {
   "cell_type": "code",
   "execution_count": 4,
   "metadata": {
    "colab": {
     "base_uri": "https://localhost:8080/",
     "height": 68
    },
    "colab_type": "code",
    "executionInfo": {
     "elapsed": 13683,
     "status": "ok",
     "timestamp": 1591002725927,
     "user": {
      "displayName": "Salman Ullah Siddiqui",
      "photoUrl": "",
      "userId": "03664566726939212040"
     },
     "user_tz": -180
    },
    "id": "YDSSxxAuJiUF",
    "outputId": "dc298159-6bf0-4db7-d2f1-66d166e02ff4"
   },
   "outputs": [
    {
     "name": "stdout",
     "output_type": "stream",
     "text": [
      "A: 2\n",
      "B: 4\n",
      "6\n"
     ]
    }
   ],
   "source": [
    "a= int(input('A: '))\n",
    "b= int(input('B: '))\n",
    "print(a+b)"
   ]
  },
  {
   "cell_type": "code",
   "execution_count": 5,
   "metadata": {
    "colab": {
     "base_uri": "https://localhost:8080/",
     "height": 34
    },
    "colab_type": "code",
    "executionInfo": {
     "elapsed": 13674,
     "status": "ok",
     "timestamp": 1591002725928,
     "user": {
      "displayName": "Salman Ullah Siddiqui",
      "photoUrl": "",
      "userId": "03664566726939212040"
     },
     "user_tz": -180
    },
    "id": "u3qxKRZwJiUH",
    "outputId": "abc55f70-0285-4428-b326-ca58f983c37f"
   },
   "outputs": [
    {
     "name": "stdout",
     "output_type": "stream",
     "text": [
      "Pakistan Zindabad\n"
     ]
    }
   ],
   "source": [
    "a = \"zindabad\"\n",
    "print(f\"Pakistan {a.title()}\")"
   ]
  },
  {
   "cell_type": "code",
   "execution_count": 6,
   "metadata": {
    "colab": {
     "base_uri": "https://localhost:8080/",
     "height": 34
    },
    "colab_type": "code",
    "executionInfo": {
     "elapsed": 13655,
     "status": "ok",
     "timestamp": 1591002725929,
     "user": {
      "displayName": "Salman Ullah Siddiqui",
      "photoUrl": "",
      "userId": "03664566726939212040"
     },
     "user_tz": -180
    },
    "id": "2EaaxZH8JiUK",
    "outputId": "a59a08ba-1803-477d-8642-becc9818dd0d"
   },
   "outputs": [
    {
     "name": "stdout",
     "output_type": "stream",
     "text": [
      "['mango', 'cherry']\n"
     ]
    }
   ],
   "source": [
    "fruits = [\"mango\", \"cherry\"]\n",
    "print(fruits)"
   ]
  },
  {
   "cell_type": "code",
   "execution_count": 7,
   "metadata": {
    "colab": {
     "base_uri": "https://localhost:8080/",
     "height": 34
    },
    "colab_type": "code",
    "executionInfo": {
     "elapsed": 13641,
     "status": "ok",
     "timestamp": 1591002725930,
     "user": {
      "displayName": "Salman Ullah Siddiqui",
      "photoUrl": "",
      "userId": "03664566726939212040"
     },
     "user_tz": -180
    },
    "id": "d0Q0-Kb1JiUO",
    "outputId": "821115ca-01c9-49cb-d09e-c0f3b6576da3"
   },
   "outputs": [
    {
     "data": {
      "text/plain": [
       "<function list.count>"
      ]
     },
     "execution_count": 7,
     "metadata": {
      "tags": []
     },
     "output_type": "execute_result"
    }
   ],
   "source": [
    "fruits.count"
   ]
  },
  {
   "cell_type": "code",
   "execution_count": 8,
   "metadata": {
    "colab": {
     "base_uri": "https://localhost:8080/",
     "height": 34
    },
    "colab_type": "code",
    "executionInfo": {
     "elapsed": 13634,
     "status": "ok",
     "timestamp": 1591002725931,
     "user": {
      "displayName": "Salman Ullah Siddiqui",
      "photoUrl": "",
      "userId": "03664566726939212040"
     },
     "user_tz": -180
    },
    "id": "XmRC3mHrJiUT",
    "outputId": "b5c04bad-7586-427e-c62d-f997fb569844"
   },
   "outputs": [
    {
     "data": {
      "text/plain": [
       "2"
      ]
     },
     "execution_count": 8,
     "metadata": {
      "tags": []
     },
     "output_type": "execute_result"
    }
   ],
   "source": [
    "len(fruits)"
   ]
  },
  {
   "cell_type": "code",
   "execution_count": 0,
   "metadata": {
    "colab": {},
    "colab_type": "code",
    "id": "zKW4JDKCJiUW"
   },
   "outputs": [],
   "source": [
    "fruits.append('apple')"
   ]
  },
  {
   "cell_type": "code",
   "execution_count": 10,
   "metadata": {
    "colab": {
     "base_uri": "https://localhost:8080/",
     "height": 34
    },
    "colab_type": "code",
    "executionInfo": {
     "elapsed": 13619,
     "status": "ok",
     "timestamp": 1591002725933,
     "user": {
      "displayName": "Salman Ullah Siddiqui",
      "photoUrl": "",
      "userId": "03664566726939212040"
     },
     "user_tz": -180
    },
    "id": "SunfTuQOJiUZ",
    "outputId": "647d93d9-fba9-4db3-d40a-ffe022dffb5d"
   },
   "outputs": [
    {
     "name": "stdout",
     "output_type": "stream",
     "text": [
      "['mango', 'cherry', 'apple']\n"
     ]
    }
   ],
   "source": [
    "print(fruits)"
   ]
  },
  {
   "cell_type": "code",
   "execution_count": 11,
   "metadata": {
    "colab": {
     "base_uri": "https://localhost:8080/",
     "height": 34
    },
    "colab_type": "code",
    "executionInfo": {
     "elapsed": 13609,
     "status": "ok",
     "timestamp": 1591002725935,
     "user": {
      "displayName": "Salman Ullah Siddiqui",
      "photoUrl": "",
      "userId": "03664566726939212040"
     },
     "user_tz": -180
    },
    "id": "1r0qYJLHJiUb",
    "outputId": "6b5107ae-b92e-43b2-8a55-ebec7fd73836"
   },
   "outputs": [
    {
     "data": {
      "text/plain": [
       "0"
      ]
     },
     "execution_count": 11,
     "metadata": {
      "tags": []
     },
     "output_type": "execute_result"
    }
   ],
   "source": [
    "fruits.count(\"a\")"
   ]
  },
  {
   "cell_type": "code",
   "execution_count": 12,
   "metadata": {
    "colab": {
     "base_uri": "https://localhost:8080/",
     "height": 34
    },
    "colab_type": "code",
    "executionInfo": {
     "elapsed": 13596,
     "status": "ok",
     "timestamp": 1591002725935,
     "user": {
      "displayName": "Salman Ullah Siddiqui",
      "photoUrl": "",
      "userId": "03664566726939212040"
     },
     "user_tz": -180
    },
    "id": "HZ2bYWp7JiUf",
    "outputId": "a1cca7cc-3ff6-4d0c-a948-34ca8341ca6f"
   },
   "outputs": [
    {
     "name": "stdout",
     "output_type": "stream",
     "text": [
      "['mango', 'cherry', 'apple']\n"
     ]
    }
   ],
   "source": [
    "print(fruits)"
   ]
  },
  {
   "cell_type": "code",
   "execution_count": 13,
   "metadata": {
    "colab": {
     "base_uri": "https://localhost:8080/",
     "height": 51
    },
    "colab_type": "code",
    "executionInfo": {
     "elapsed": 13591,
     "status": "ok",
     "timestamp": 1591002725936,
     "user": {
      "displayName": "Salman Ullah Siddiqui",
      "photoUrl": "",
      "userId": "03664566726939212040"
     },
     "user_tz": -180
    },
    "id": "9udpZ-HhJiUj",
    "outputId": "4cd902b0-31b7-44cb-924c-dac85b81533e"
   },
   "outputs": [
    {
     "name": "stdout",
     "output_type": "stream",
     "text": [
      "['almod', 'kajo']\n",
      "['mango', 'cherry', 'apple', 'almod', 'kajo']\n"
     ]
    }
   ],
   "source": [
    "dry_fruits = [\"almod\",\"kajo\"]\n",
    "print(dry_fruits)\n",
    "fruits = fruits + dry_fruits\n",
    "print(fruits)\n"
   ]
  },
  {
   "cell_type": "code",
   "execution_count": 14,
   "metadata": {
    "colab": {
     "base_uri": "https://localhost:8080/",
     "height": 34
    },
    "colab_type": "code",
    "executionInfo": {
     "elapsed": 13584,
     "status": "ok",
     "timestamp": 1591002725936,
     "user": {
      "displayName": "Salman Ullah Siddiqui",
      "photoUrl": "",
      "userId": "03664566726939212040"
     },
     "user_tz": -180
    },
    "id": "9NCYQ2nrJiUl",
    "outputId": "5649a2b4-36ab-4667-afad-301b4f827a49"
   },
   "outputs": [
    {
     "data": {
      "text/plain": [
       "5"
      ]
     },
     "execution_count": 14,
     "metadata": {
      "tags": []
     },
     "output_type": "execute_result"
    }
   ],
   "source": [
    "len(fruits)"
   ]
  },
  {
   "cell_type": "code",
   "execution_count": 15,
   "metadata": {
    "colab": {
     "base_uri": "https://localhost:8080/",
     "height": 34
    },
    "colab_type": "code",
    "executionInfo": {
     "elapsed": 13577,
     "status": "ok",
     "timestamp": 1591002725937,
     "user": {
      "displayName": "Salman Ullah Siddiqui",
      "photoUrl": "",
      "userId": "03664566726939212040"
     },
     "user_tz": -180
    },
    "id": "dgT4QeSiJiUn",
    "outputId": "6aadfa63-b3e1-4aa3-da37-ed845d659f47"
   },
   "outputs": [
    {
     "name": "stdout",
     "output_type": "stream",
     "text": [
      "['mango', 'cherry', 'apple', 'almod', 'pistacho']\n"
     ]
    }
   ],
   "source": [
    "fruits[4]=\"pistacho\"\n",
    "print(fruits)"
   ]
  },
  {
   "cell_type": "code",
   "execution_count": 16,
   "metadata": {
    "colab": {
     "base_uri": "https://localhost:8080/",
     "height": 51
    },
    "colab_type": "code",
    "executionInfo": {
     "elapsed": 13569,
     "status": "ok",
     "timestamp": 1591002725937,
     "user": {
      "displayName": "Salman Ullah Siddiqui",
      "photoUrl": "",
      "userId": "03664566726939212040"
     },
     "user_tz": -180
    },
    "id": "4h2XwmCUJiUs",
    "outputId": "c36160af-49e3-4967-9bc2-67ac5e137c54"
   },
   "outputs": [
    {
     "name": "stdout",
     "output_type": "stream",
     "text": [
      "['mango', 'cherry', 'apple', 'almod', 'pistacho', 'kiwi']\n"
     ]
    },
    {
     "data": {
      "text/plain": [
       "6"
      ]
     },
     "execution_count": 16,
     "metadata": {
      "tags": []
     },
     "output_type": "execute_result"
    }
   ],
   "source": [
    "fruits.insert(5,\"kiwi\")\n",
    "print(fruits)\n",
    "len(fruits)"
   ]
  },
  {
   "cell_type": "code",
   "execution_count": 17,
   "metadata": {
    "colab": {
     "base_uri": "https://localhost:8080/",
     "height": 34
    },
    "colab_type": "code",
    "executionInfo": {
     "elapsed": 13564,
     "status": "ok",
     "timestamp": 1591002725938,
     "user": {
      "displayName": "Salman Ullah Siddiqui",
      "photoUrl": "",
      "userId": "03664566726939212040"
     },
     "user_tz": -180
    },
    "id": "lGvbJFO8JiUv",
    "outputId": "af653fe4-7e8f-4021-cbb1-4e6f94807995"
   },
   "outputs": [
    {
     "name": "stdout",
     "output_type": "stream",
     "text": [
      "['mango', 'cherry', 'apple', 'almod', 'pistacho']\n"
     ]
    }
   ],
   "source": [
    "fruits.remove(\"kiwi\")\n",
    "print(fruits)"
   ]
  },
  {
   "cell_type": "code",
   "execution_count": 18,
   "metadata": {
    "colab": {
     "base_uri": "https://localhost:8080/",
     "height": 51
    },
    "colab_type": "code",
    "executionInfo": {
     "elapsed": 13557,
     "status": "ok",
     "timestamp": 1591002725938,
     "user": {
      "displayName": "Salman Ullah Siddiqui",
      "photoUrl": "",
      "userId": "03664566726939212040"
     },
     "user_tz": -180
    },
    "id": "f5mO3mJWJiUy",
    "outputId": "dd0aac7c-0f4b-47c4-9ad6-545faa560f67"
   },
   "outputs": [
    {
     "name": "stdout",
     "output_type": "stream",
     "text": [
      "['test', 'mango', 'cherry', 'apple', 'almod', 'pistacho']\n",
      "['mango', 'cherry', 'apple', 'almod', 'pistacho']\n"
     ]
    }
   ],
   "source": [
    "new_fruit=fruits.copy()\n",
    "fruits.insert(0,\"test\")\n",
    "print(fruits)\n",
    "print(new_fruit)"
   ]
  },
  {
   "cell_type": "code",
   "execution_count": 19,
   "metadata": {
    "colab": {
     "base_uri": "https://localhost:8080/",
     "height": 51
    },
    "colab_type": "code",
    "executionInfo": {
     "elapsed": 13550,
     "status": "ok",
     "timestamp": 1591002725938,
     "user": {
      "displayName": "Salman Ullah Siddiqui",
      "photoUrl": "",
      "userId": "03664566726939212040"
     },
     "user_tz": -180
    },
    "id": "YB46-HNvJiU1",
    "outputId": "ec9b514d-518d-43f1-e36d-99881444e8a3"
   },
   "outputs": [
    {
     "name": "stdout",
     "output_type": "stream",
     "text": [
      "['test', 'test', 'mango', 'cherry', 'apple', 'almod', 'pistacho']\n",
      "['test', 'test', 'mango', 'cherry', 'apple', 'almod', 'pistacho']\n"
     ]
    }
   ],
   "source": [
    "fr=fruits\n",
    "fruits.insert(0,\"test\")\n",
    "print(fruits)\n",
    "print(fr)\n"
   ]
  },
  {
   "cell_type": "code",
   "execution_count": 20,
   "metadata": {
    "colab": {
     "base_uri": "https://localhost:8080/",
     "height": 34
    },
    "colab_type": "code",
    "executionInfo": {
     "elapsed": 13543,
     "status": "ok",
     "timestamp": 1591002725939,
     "user": {
      "displayName": "Salman Ullah Siddiqui",
      "photoUrl": "",
      "userId": "03664566726939212040"
     },
     "user_tz": -180
    },
    "id": "jFsGllvDJiU3",
    "outputId": "b41856eb-a067-4c85-f273-425799ef70e2"
   },
   "outputs": [
    {
     "name": "stdout",
     "output_type": "stream",
     "text": [
      "['test', 'test', 'mango', 'cherry', 'apple', 'almod', 'pistacho', 'blue berry', 'black berry']\n"
     ]
    }
   ],
   "source": [
    "fruits.extend([\"blue berry\",\"black berry\"])\n",
    "print(fruits)"
   ]
  },
  {
   "cell_type": "code",
   "execution_count": 21,
   "metadata": {
    "colab": {
     "base_uri": "https://localhost:8080/",
     "height": 51
    },
    "colab_type": "code",
    "executionInfo": {
     "elapsed": 13538,
     "status": "ok",
     "timestamp": 1591002725940,
     "user": {
      "displayName": "Salman Ullah Siddiqui",
      "photoUrl": "",
      "userId": "03664566726939212040"
     },
     "user_tz": -180
    },
    "id": "_UzXoI41JiU5",
    "outputId": "23710cf6-9470-4520-f4fe-1972f8a54300"
   },
   "outputs": [
    {
     "name": "stdout",
     "output_type": "stream",
     "text": [
      "['mango', 'cherry', 'apple', 'almod', 'pistacho']\n",
      "[]\n"
     ]
    }
   ],
   "source": [
    "print(new_fruit)\n",
    "new_fruit.clear()\n",
    "print(new_fruit)"
   ]
  },
  {
   "cell_type": "code",
   "execution_count": 22,
   "metadata": {
    "colab": {
     "base_uri": "https://localhost:8080/",
     "height": 51
    },
    "colab_type": "code",
    "executionInfo": {
     "elapsed": 13531,
     "status": "ok",
     "timestamp": 1591002725940,
     "user": {
      "displayName": "Salman Ullah Siddiqui",
      "photoUrl": "",
      "userId": "03664566726939212040"
     },
     "user_tz": -180
    },
    "id": "B5wVz_P4JiU7",
    "outputId": "aaba7ea6-16ee-4c5f-da5a-5e17182afc67"
   },
   "outputs": [
    {
     "name": "stdout",
     "output_type": "stream",
     "text": [
      "['test', 'test', 'mango', 'cherry', 'apple', 'almod', 'pistacho', 'blue berry', 'black berry']\n"
     ]
    },
    {
     "data": {
      "text/plain": [
       "0"
      ]
     },
     "execution_count": 22,
     "metadata": {
      "tags": []
     },
     "output_type": "execute_result"
    }
   ],
   "source": [
    "print(fruits)\n",
    "fruits.index(\"test\") # return the index of first instance of the value"
   ]
  },
  {
   "cell_type": "code",
   "execution_count": 23,
   "metadata": {
    "colab": {
     "base_uri": "https://localhost:8080/",
     "height": 85
    },
    "colab_type": "code",
    "executionInfo": {
     "elapsed": 13526,
     "status": "ok",
     "timestamp": 1591002725941,
     "user": {
      "displayName": "Salman Ullah Siddiqui",
      "photoUrl": "",
      "userId": "03664566726939212040"
     },
     "user_tz": -180
    },
    "id": "Zz_V10MWJiU9",
    "outputId": "55de7c0e-8d14-4e17-d927-3e53c4a269d7"
   },
   "outputs": [
    {
     "name": "stdout",
     "output_type": "stream",
     "text": [
      "full list :['test', 'test', 'mango', 'cherry', 'apple', 'almod', 'pistacho', 'blue berry', 'black berry']\n",
      "0-3: ['test', 'test', 'mango']\n",
      "6-last: ['pistacho', 'blue berry', 'black berry']\n",
      "3-6: ['mango', 'apple', 'pistacho']\n"
     ]
    }
   ],
   "source": [
    "initial_fruits = fruits[:3]\n",
    "endding_fruits = fruits[6:]\n",
    "mid_fruits = fruits[2:7:2]\n",
    "print(f\"full list :{fruits}\")\n",
    "print(f\"0-3: {initial_fruits}\")\n",
    "print(f\"6-last: {endding_fruits}\")\n",
    "print(f\"3-6: {mid_fruits}\")\n"
   ]
  },
  {
   "cell_type": "code",
   "execution_count": 24,
   "metadata": {
    "colab": {
     "base_uri": "https://localhost:8080/",
     "height": 68
    },
    "colab_type": "code",
    "executionInfo": {
     "elapsed": 13520,
     "status": "ok",
     "timestamp": 1591002725942,
     "user": {
      "displayName": "Salman Ullah Siddiqui",
      "photoUrl": "",
      "userId": "03664566726939212040"
     },
     "user_tz": -180
    },
    "id": "rTHjo4jPJiU_",
    "outputId": "01d197ce-a8d4-4560-cdfa-f34daa6f7e7e"
   },
   "outputs": [
    {
     "name": "stdout",
     "output_type": "stream",
     "text": [
      "['test', 'test', 'mango', 'cherry', 'apple', 'almod', 'pistacho', 'blue berry', 'black berry']\n",
      "['almod', 'mango']\n",
      "['almod', 'pistacho', 'mango']\n"
     ]
    }
   ],
   "source": [
    "poped_fruits = []\n",
    "print(fruits)\n",
    "poped_fruits.extend([fruits.pop(5),fruits.pop(2)])\n",
    "print(poped_fruits)\n",
    "poped_fruits.insert(1,fruits.pop(4))\n",
    "# poped_fruits = [initial_fruits.pop(1)+ mid_fruits.pop(1)+ endding_fruits(1)]\n",
    "print(poped_fruits)"
   ]
  },
  {
   "cell_type": "code",
   "execution_count": 25,
   "metadata": {
    "colab": {
     "base_uri": "https://localhost:8080/",
     "height": 85
    },
    "colab_type": "code",
    "executionInfo": {
     "elapsed": 13513,
     "status": "ok",
     "timestamp": 1591002725942,
     "user": {
      "displayName": "Salman Ullah Siddiqui",
      "photoUrl": "",
      "userId": "03664566726939212040"
     },
     "user_tz": -180
    },
    "id": "3YJSzqMdJiVA",
    "outputId": "d4b0b81c-5fcf-4592-832d-620485367077",
    "scrolled": true
   },
   "outputs": [
    {
     "name": "stdout",
     "output_type": "stream",
     "text": [
      "['test', 'test', 'cherry', 'apple', 'blue berry', 'black berry']\n",
      "Reverse: ['black berry', 'blue berry', 'apple', 'cherry', 'test', 'test']\n",
      "sort assending: ['apple', 'black berry', 'blue berry', 'cherry', 'test', 'test']\n",
      "sort decending: ['test', 'test', 'cherry', 'blue berry', 'black berry', 'apple']\n"
     ]
    }
   ],
   "source": [
    "print(fruits)\n",
    "fruits.reverse()\n",
    "print(f\"Reverse: {fruits}\")\n",
    "fruits.sort()\n",
    "print(f\"sort assending: {fruits}\")\n",
    "fruits.sort(reverse=True)\n",
    "print(f\"sort decending: {fruits}\")"
   ]
  },
  {
   "cell_type": "markdown",
   "metadata": {
    "colab_type": "text",
    "id": "uLdrfoEEJiVC"
   },
   "source": []
  },
  {
   "cell_type": "markdown",
   "metadata": {
    "colab_type": "text",
    "id": "beSP6XOsJiVC"
   },
   "source": [
    "# Tupple"
   ]
  },
  {
   "cell_type": "code",
   "execution_count": 26,
   "metadata": {
    "colab": {
     "base_uri": "https://localhost:8080/",
     "height": 34
    },
    "colab_type": "code",
    "executionInfo": {
     "elapsed": 13507,
     "status": "ok",
     "timestamp": 1591002725943,
     "user": {
      "displayName": "Salman Ullah Siddiqui",
      "photoUrl": "",
      "userId": "03664566726939212040"
     },
     "user_tz": -180
    },
    "id": "NB-uaVMiJiVD",
    "outputId": "3c066ad0-983f-436a-9a58-93c0eb2709e5"
   },
   "outputs": [
    {
     "name": "stdout",
     "output_type": "stream",
     "text": [
      "('apple', 500, 24.43)\n"
     ]
    }
   ],
   "source": [
    "tup = (\"apple\", 500, 24.43)\n",
    "print(tup)"
   ]
  },
  {
   "cell_type": "markdown",
   "metadata": {
    "colab_type": "text",
    "id": "WsGmGM2hJiVF"
   },
   "source": [
    "# LIST in a LIST"
   ]
  },
  {
   "cell_type": "code",
   "execution_count": 0,
   "metadata": {
    "colab": {},
    "colab_type": "code",
    "id": "byb-WcfQJiVF"
   },
   "outputs": [],
   "source": [
    "    l_l = [\n",
    "    [1, 2, 3],\n",
    "    [4, 5, 6],\n",
    "    [7, 8, 9]\n",
    "]"
   ]
  },
  {
   "cell_type": "code",
   "execution_count": 28,
   "metadata": {
    "colab": {
     "base_uri": "https://localhost:8080/",
     "height": 170
    },
    "colab_type": "code",
    "executionInfo": {
     "elapsed": 13500,
     "status": "ok",
     "timestamp": 1591002725944,
     "user": {
      "displayName": "Salman Ullah Siddiqui",
      "photoUrl": "",
      "userId": "03664566726939212040"
     },
     "user_tz": -180
    },
    "id": "N1L5tqGRJiVH",
    "outputId": "80d1e341-aa24-4855-db1d-e3a0e34e39b5"
   },
   "outputs": [
    {
     "name": "stdout",
     "output_type": "stream",
     "text": [
      "1\n",
      "2\n",
      "3\n",
      "4\n",
      "5\n",
      "6\n",
      "7\n",
      "8\n",
      "9\n"
     ]
    }
   ],
   "source": [
    "for a in l_l:\n",
    "    for b in a:\n",
    "        print(b)"
   ]
  },
  {
   "cell_type": "code",
   "execution_count": 29,
   "metadata": {
    "colab": {
     "base_uri": "https://localhost:8080/",
     "height": 34
    },
    "colab_type": "code",
    "executionInfo": {
     "elapsed": 13495,
     "status": "ok",
     "timestamp": 1591002725945,
     "user": {
      "displayName": "Salman Ullah Siddiqui",
      "photoUrl": "",
      "userId": "03664566726939212040"
     },
     "user_tz": -180
    },
    "id": "zc9yunM4JiVJ",
    "outputId": "f167b8d4-0461-4771-93b9-9a7766940fb2"
   },
   "outputs": [
    {
     "name": "stdout",
     "output_type": "stream",
     "text": [
      "9\n"
     ]
    }
   ],
   "source": [
    "print(l_l[2][2])"
   ]
  },
  {
   "cell_type": "code",
   "execution_count": 30,
   "metadata": {
    "colab": {
     "base_uri": "https://localhost:8080/",
     "height": 164
    },
    "colab_type": "code",
    "executionInfo": {
     "elapsed": 13950,
     "status": "error",
     "timestamp": 1591002726406,
     "user": {
      "displayName": "Salman Ullah Siddiqui",
      "photoUrl": "",
      "userId": "03664566726939212040"
     },
     "user_tz": -180
    },
    "id": "m0R2Fa0CJiVL",
    "outputId": "f9b49f41-3d96-40c3-95e4-ed1fdf93a7e4"
   },
   "outputs": [
    {
     "ename": "ValueError",
     "evalue": "ignored",
     "output_type": "error",
     "traceback": [
      "\u001b[0;31m---------------------------------------------------------------------------\u001b[0m",
      "\u001b[0;31mValueError\u001b[0m                                Traceback (most recent call last)",
      "\u001b[0;32m<ipython-input-30-3290a34e6832>\u001b[0m in \u001b[0;36m<module>\u001b[0;34m()\u001b[0m\n\u001b[0;32m----> 1\u001b[0;31m \u001b[0mprint\u001b[0m\u001b[0;34m(\u001b[0m\u001b[0ml_l\u001b[0m\u001b[0;34m.\u001b[0m\u001b[0mindex\u001b[0m\u001b[0;34m(\u001b[0m\u001b[0;36m1\u001b[0m\u001b[0;34m)\u001b[0m\u001b[0;34m)\u001b[0m\u001b[0;34m\u001b[0m\u001b[0;34m\u001b[0m\u001b[0m\n\u001b[0m",
      "\u001b[0;31mValueError\u001b[0m: 1 is not in list"
     ]
    }
   ],
   "source": [
    "print(l_l.index(1))"
   ]
  },
  {
   "cell_type": "markdown",
   "metadata": {
    "colab_type": "text",
    "id": "HTjfQQgkJiVN"
   },
   "source": [
    "# Delete duplicate values from list "
   ]
  },
  {
   "cell_type": "code",
   "execution_count": 31,
   "metadata": {
    "colab": {
     "base_uri": "https://localhost:8080/",
     "height": 51
    },
    "colab_type": "code",
    "executionInfo": {
     "elapsed": 641,
     "status": "ok",
     "timestamp": 1591002760511,
     "user": {
      "displayName": "Salman Ullah Siddiqui",
      "photoUrl": "",
      "userId": "03664566726939212040"
     },
     "user_tz": -180
    },
    "id": "OljQ8CZJJiVN",
    "outputId": "5917b422-d0bb-4093-87d1-d7737cb68216"
   },
   "outputs": [
    {
     "name": "stdout",
     "output_type": "stream",
     "text": [
      "[9, 89, 24, 23, 24, 0, 42, 94, 42, 9, 9, 42, 0]\n",
      "[9, 89, 24, 23, 0, 42, 94]\n"
     ]
    }
   ],
   "source": [
    "a = [9,89,24,23,24,0,42,94,42,9,9,42,0]\n",
    "unique =[]\n",
    "for i in a:\n",
    "    if i not in unique:\n",
    "        unique.append(i)\n",
    "print(a)\n",
    "print(unique)"
   ]
  },
  {
   "cell_type": "code",
   "execution_count": 32,
   "metadata": {
    "colab": {
     "base_uri": "https://localhost:8080/",
     "height": 34
    },
    "colab_type": "code",
    "executionInfo": {
     "elapsed": 633,
     "status": "ok",
     "timestamp": 1591002760512,
     "user": {
      "displayName": "Salman Ullah Siddiqui",
      "photoUrl": "",
      "userId": "03664566726939212040"
     },
     "user_tz": -180
    },
    "id": "YtxXsE4rJiVP",
    "outputId": "f899112c-12cd-4382-ab3d-8281e9e6f369"
   },
   "outputs": [
    {
     "data": {
      "text/plain": [
       "{0, 9, 23, 24, 42, 89, 94}"
      ]
     },
     "execution_count": 32,
     "metadata": {
      "tags": []
     },
     "output_type": "execute_result"
    }
   ],
   "source": [
    "# set as data structure\n",
    "data_setting=set(a)\n",
    "data_setting"
   ]
  },
  {
   "cell_type": "code",
   "execution_count": 33,
   "metadata": {
    "colab": {
     "base_uri": "https://localhost:8080/",
     "height": 425
    },
    "colab_type": "code",
    "executionInfo": {
     "elapsed": 626,
     "status": "ok",
     "timestamp": 1591002760513,
     "user": {
      "displayName": "Salman Ullah Siddiqui",
      "photoUrl": "",
      "userId": "03664566726939212040"
     },
     "user_tz": -180
    },
    "id": "XVyBzfyCJiVS",
    "outputId": "a12037f7-b64d-477c-fa7f-ef1ceb534d3b"
   },
   "outputs": [
    {
     "name": "stdout",
     "output_type": "stream",
     "text": [
      "[9, 89, 23, 24, 0, 42, 94, 42, 9, 9, 42, 0, 42]\n",
      "[0, 0, 9, 9, 9, 23, 24, 42, 42, 42, 42, 89, 94]\n",
      "0 0\n",
      "0 duplicate value: 0\n",
      "0 0\n",
      "2 9\n",
      "9 duplicate value: 9\n",
      "2 9\n",
      "9 duplicate value: 9\n",
      "2 9\n",
      "5 23\n",
      "6 24\n",
      "7 42\n",
      "42 duplicate value: 42\n",
      "7 42\n",
      "42 duplicate value: 42\n",
      "7 42\n",
      "42 duplicate value: 42\n",
      "7 42\n",
      "11 89\n",
      "12 94\n",
      "[0, 0, 9, 9, 9, 23, 24, 42, 42, 42, 42, 89, 94]\n",
      "duplicate index [1, 3, 4, 8, 9, 10]\n",
      "duplicate value [0, 9, 9, 42, 42, 42]\n"
     ]
    }
   ],
   "source": [
    "a = [9,89,23,24,0,42,94,42,9,9,42,0,42]\n",
    "print(a)\n",
    "a.sort()\n",
    "print(a)\n",
    "dup = []\n",
    "val = []\n",
    "b=\"\"\n",
    "ind = 0\n",
    "for i in a:\n",
    "    if b == i:\n",
    "   # if b in i:\n",
    "        print(f\"{b} duplicate value: {i}\")\n",
    "        dup.append(ind)\n",
    "        val.append(b)\n",
    "       # a.remove(b)\n",
    "    b=i\n",
    "    ind += 1\n",
    "    print(a.index(i), i)\n",
    "print(a)\n",
    "print(f\"duplicate index {dup}\")\n",
    "print(f\"duplicate value {val}\")"
   ]
  },
  {
   "cell_type": "markdown",
   "metadata": {
    "colab_type": "text",
    "id": "Alf9vFpwJiVT"
   },
   "source": [
    "# Unpacking a list"
   ]
  },
  {
   "cell_type": "code",
   "execution_count": 34,
   "metadata": {
    "colab": {
     "base_uri": "https://localhost:8080/",
     "height": 34
    },
    "colab_type": "code",
    "executionInfo": {
     "elapsed": 617,
     "status": "ok",
     "timestamp": 1591002760513,
     "user": {
      "displayName": "Salman Ullah Siddiqui",
      "photoUrl": "",
      "userId": "03664566726939212040"
     },
     "user_tz": -180
    },
    "id": "UqgDnSfJJiVU",
    "outputId": "aac06987-70aa-4de7-cd6d-9200548da530"
   },
   "outputs": [
    {
     "name": "stdout",
     "output_type": "stream",
     "text": [
      "2\n"
     ]
    }
   ],
   "source": [
    "unpacking = [1,2,3]\n",
    "x,y,z = unpacking\n",
    "print(y)"
   ]
  },
  {
   "cell_type": "markdown",
   "metadata": {
    "colab_type": "text",
    "id": "36ATCUYuJiVW"
   },
   "source": [
    "# Min, Max, Sum"
   ]
  },
  {
   "cell_type": "code",
   "execution_count": 37,
   "metadata": {
    "colab": {
     "base_uri": "https://localhost:8080/",
     "height": 102
    },
    "colab_type": "code",
    "executionInfo": {
     "elapsed": 815,
     "status": "ok",
     "timestamp": 1591009805853,
     "user": {
      "displayName": "Salman Ullah Siddiqui",
      "photoUrl": "",
      "userId": "03664566726939212040"
     },
     "user_tz": -180
    },
    "id": "ZdFy64k8JiVW",
    "outputId": "a4cee441-779a-41b1-aec5-e7c809fb053e"
   },
   "outputs": [
    {
     "name": "stdout",
     "output_type": "stream",
     "text": [
      "11\n",
      "1\n",
      "66\n",
      "5 is in listing\n",
      "12 not in the listing\n"
     ]
    }
   ],
   "source": [
    "listing = [1,2,3,4,5,6,7,8,9,10,11]\n",
    "print(max(listing))\n",
    "print(min(listing))\n",
    "print(sum(listing))\n",
    "if 5 in listing:\n",
    "    print(\"5 is in listing\")\n",
    "if 12 not in listing:\n",
    "    print(\"12 not in the listing\")\n",
    "else:\n",
    "        print(\"12 is in the list\")"
   ]
  },
  {
   "cell_type": "markdown",
   "metadata": {
    "colab_type": "text",
    "id": "QE0ZhaSqJiVY"
   },
   "source": [
    "# Slicing in Loop"
   ]
  },
  {
   "cell_type": "code",
   "execution_count": 58,
   "metadata": {
    "colab": {
     "base_uri": "https://localhost:8080/",
     "height": 119
    },
    "colab_type": "code",
    "executionInfo": {
     "elapsed": 1763,
     "status": "ok",
     "timestamp": 1591013087665,
     "user": {
      "displayName": "Salman Ullah Siddiqui",
      "photoUrl": "",
      "userId": "03664566726939212040"
     },
     "user_tz": -180
    },
    "id": "e9NXLUxEk1-e",
    "outputId": "6a7055f7-a146-4e9a-dccf-f3c8bcef055b"
   },
   "outputs": [
    {
     "name": "stdout",
     "output_type": "stream",
     "text": [
      "[0, 1, 2, 3, 4, 5, 6, 7, 8, 9]\n",
      "[2, 3, 4, 5, 6]\n",
      "[8, 9]\n",
      "[0, 2, 4, 6, 8]\n",
      "[9, 7, 5, 3, 1]\n",
      "[2, 3, 4, 5, 6, 7]\n"
     ]
    }
   ],
   "source": [
    "list_slicing = list(range(0,10))\n",
    "print(list_slicing)\n",
    "print(list_slicing[2:7])\n",
    "print(list_slicing[8::1])\n",
    "print(list_slicing[::2])\n",
    "print(list_slicing[::-2])\n",
    "print(list_slicing[-8:8])"
   ]
  },
  {
   "cell_type": "code",
   "execution_count": 36,
   "metadata": {
    "colab": {
     "base_uri": "https://localhost:8080/",
     "height": 34
    },
    "colab_type": "code",
    "executionInfo": {
     "elapsed": 607,
     "status": "ok",
     "timestamp": 1591002760516,
     "user": {
      "displayName": "Salman Ullah Siddiqui",
      "photoUrl": "",
      "userId": "03664566726939212040"
     },
     "user_tz": -180
    },
    "id": "MlORiVoqJiVZ",
    "outputId": "0b2bf79f-bf89-47a0-c64e-fbb691371621"
   },
   "outputs": [
    {
     "name": "stdout",
     "output_type": "stream",
     "text": [
      "1 2 3 4 5 "
     ]
    }
   ],
   "source": [
    "for i in listing[:5]:\n",
    "    print(i, end=\" \")"
   ]
  },
  {
   "cell_type": "markdown",
   "metadata": {
    "colab_type": "text",
    "id": "vaUFlAETJ--y"
   },
   "source": [
    "## **List Functions **"
   ]
  },
  {
   "cell_type": "code",
   "execution_count": 0,
   "metadata": {
    "colab": {},
    "colab_type": "code",
    "id": "rkfbjN_OKFBj"
   },
   "outputs": [],
   "source": [
    "# append --- to add item in list at end\n"
   ]
  },
  {
   "cell_type": "code",
   "execution_count": 4,
   "metadata": {},
   "outputs": [
    {
     "name": "stdout",
     "output_type": "stream",
     "text": [
      "[1, 2, 3]\n"
     ]
    }
   ],
   "source": [
    "list1 = list([1,2,3])\n",
    "print(list1)"
   ]
  },
  {
   "cell_type": "code",
   "execution_count": 5,
   "metadata": {},
   "outputs": [
    {
     "data": {
      "text/plain": [
       "2"
      ]
     },
     "execution_count": 5,
     "metadata": {},
     "output_type": "execute_result"
    }
   ],
   "source": [
    "list1[1]"
   ]
  },
  {
   "cell_type": "code",
   "execution_count": 7,
   "metadata": {},
   "outputs": [
    {
     "data": {
      "text/plain": [
       "True"
      ]
     },
     "execution_count": 7,
     "metadata": {},
     "output_type": "execute_result"
    }
   ],
   "source": [
    "d={\"j\":40,\"p\":45}\n",
    "\"j\" in d"
   ]
  },
  {
   "cell_type": "code",
   "execution_count": 10,
   "metadata": {},
   "outputs": [
    {
     "name": "stdout",
     "output_type": "stream",
     "text": [
      "0\n",
      "1\n",
      "2\n",
      "3\n",
      "4\n"
     ]
    }
   ],
   "source": [
    "for i in range(10):\n",
    "    if i == 5:\n",
    "        break\n",
    "    else:\n",
    "        print(i)\n",
    "else:\n",
    "    print(\"here\")"
   ]
  },
  {
   "cell_type": "code",
   "execution_count": 12,
   "metadata": {},
   "outputs": [
    {
     "name": "stdout",
     "output_type": "stream",
     "text": [
      "{1: 2, '1': 2}\n",
      "4\n"
     ]
    }
   ],
   "source": [
    "a={}\n",
    "a[1]=1\n",
    "a['1']=2\n",
    "a[1]=a[1]+1\n",
    "print(a)\n",
    "count =0\n",
    "for i in a:\n",
    "    count +=a[i]\n",
    "print(count)    "
   ]
  },
  {
   "cell_type": "code",
   "execution_count": 19,
   "metadata": {},
   "outputs": [
    {
     "data": {
      "text/plain": [
       "'he'"
      ]
     },
     "execution_count": 19,
     "metadata": {},
     "output_type": "execute_result"
    }
   ],
   "source": [
    "str=\"hello\"\n",
    "str[:2]"
   ]
  },
  {
   "cell_type": "code",
   "execution_count": 35,
   "metadata": {},
   "outputs": [
    {
     "data": {
      "text/plain": [
       "40"
      ]
     },
     "execution_count": 35,
     "metadata": {},
     "output_type": "execute_result"
    }
   ],
   "source": [
    "d={\"j\":40,\"p\":45}\n",
    "dd={\"j\":466,\"p\":45}\n",
    "d==dd\n"
   ]
  },
  {
   "cell_type": "code",
   "execution_count": 21,
   "metadata": {},
   "outputs": [
    {
     "data": {
      "text/plain": [
       "[1, 3, 2, 1, 3, 2]"
      ]
     },
     "execution_count": 21,
     "metadata": {},
     "output_type": "execute_result"
    }
   ],
   "source": [
    "list1=[1,3,2]\n",
    "list1*2"
   ]
  },
  {
   "cell_type": "code",
   "execution_count": 22,
   "metadata": {},
   "outputs": [
    {
     "data": {
      "text/plain": [
       "0"
      ]
     },
     "execution_count": 22,
     "metadata": {},
     "output_type": "execute_result"
    }
   ],
   "source": [
    "16%15//16"
   ]
  },
  {
   "cell_type": "code",
   "execution_count": 23,
   "metadata": {},
   "outputs": [
    {
     "data": {
      "text/plain": [
       "[2]"
      ]
     },
     "execution_count": 23,
     "metadata": {},
     "output_type": "execute_result"
    }
   ],
   "source": [
    "i=[1,2,3,4]\n",
    "i[-3:-2]"
   ]
  },
  {
   "cell_type": "code",
   "execution_count": 24,
   "metadata": {},
   "outputs": [],
   "source": [
    "__str__ =1\n",
    "_a=1\n",
    "__a=1"
   ]
  },
  {
   "cell_type": "code",
   "execution_count": 25,
   "metadata": {},
   "outputs": [
    {
     "data": {
      "text/plain": [
       "<function list.pop(index=-1, /)>"
      ]
     },
     "execution_count": 25,
     "metadata": {},
     "output_type": "execute_result"
    }
   ],
   "source": [
    "list1.pop"
   ]
  },
  {
   "cell_type": "code",
   "execution_count": 27,
   "metadata": {},
   "outputs": [
    {
     "name": "stdout",
     "output_type": "stream",
     "text": [
      "my, name, is, x, "
     ]
    }
   ],
   "source": [
    "s = \"my name is x\"\n",
    "for i in s.split():\n",
    "    print(i, end=\", \")\n",
    "    "
   ]
  },
  {
   "cell_type": "code",
   "execution_count": 31,
   "metadata": {},
   "outputs": [
    {
     "name": "stdout",
     "output_type": "stream",
     "text": [
      "before {1: 'A'}\n"
     ]
    },
    {
     "ename": "NameError",
     "evalue": "name 'list2' is not defined",
     "output_type": "error",
     "traceback": [
      "\u001b[0;31m---------------------------------------------------------------------------\u001b[0m",
      "\u001b[0;31mNameError\u001b[0m                                 Traceback (most recent call last)",
      "\u001b[0;32m<ipython-input-31-b8f9cca377f2>\u001b[0m in \u001b[0;36m<module>\u001b[0;34m\u001b[0m\n\u001b[1;32m      4\u001b[0m \u001b[0mlist11\u001b[0m \u001b[0;34m=\u001b[0m \u001b[0;34m[\u001b[0m\u001b[0;36m11\u001b[0m\u001b[0;34m,\u001b[0m\u001b[0;36m2\u001b[0m\u001b[0;34m,\u001b[0m\u001b[0;36m23\u001b[0m\u001b[0;34m]\u001b[0m\u001b[0;34m\u001b[0m\u001b[0;34m\u001b[0m\u001b[0m\n\u001b[1;32m      5\u001b[0m \u001b[0mlist22\u001b[0m \u001b[0;34m=\u001b[0m \u001b[0;34m[\u001b[0m\u001b[0;36m11\u001b[0m\u001b[0;34m,\u001b[0m\u001b[0;36m2\u001b[0m\u001b[0;34m,\u001b[0m\u001b[0;36m2\u001b[0m\u001b[0;34m]\u001b[0m\u001b[0;34m\u001b[0m\u001b[0;34m\u001b[0m\u001b[0m\n\u001b[0;32m----> 6\u001b[0;31m \u001b[0mlist1\u001b[0m\u001b[0;34m<\u001b[0m\u001b[0mlist2\u001b[0m\u001b[0;34m\u001b[0m\u001b[0;34m\u001b[0m\u001b[0m\n\u001b[0m",
      "\u001b[0;31mNameError\u001b[0m: name 'list2' is not defined"
     ]
    }
   ],
   "source": [
    "a={1:\"A\"}\n",
    "print(f\"before {a}\")\n",
    "del a\n"
   ]
  },
  {
   "cell_type": "code",
   "execution_count": 32,
   "metadata": {},
   "outputs": [
    {
     "data": {
      "text/plain": [
       "False"
      ]
     },
     "execution_count": 32,
     "metadata": {},
     "output_type": "execute_result"
    }
   ],
   "source": [
    "list11 = [11,2,23]\n",
    "list22 = [11,2,2]\n",
    "list11<list22"
   ]
  },
  {
   "cell_type": "code",
   "execution_count": 37,
   "metadata": {},
   "outputs": [
    {
     "data": {
      "text/plain": [
       "4"
      ]
     },
     "execution_count": 37,
     "metadata": {},
     "output_type": "execute_result"
    }
   ],
   "source": [
    "2 ** 2"
   ]
  },
  {
   "cell_type": "code",
   "execution_count": 42,
   "metadata": {},
   "outputs": [
    {
     "ename": "TypeError",
     "evalue": "'int' object is not subscriptable",
     "output_type": "error",
     "traceback": [
      "\u001b[0;31m---------------------------------------------------------------------------\u001b[0m",
      "\u001b[0;31mTypeError\u001b[0m                                 Traceback (most recent call last)",
      "\u001b[0;32m<ipython-input-42-e369aa7ee78e>\u001b[0m in \u001b[0;36m<module>\u001b[0;34m\u001b[0m\n\u001b[1;32m      1\u001b[0m \u001b[0mnu\u001b[0m\u001b[0;34m=\u001b[0m\u001b[0;34m[\u001b[0m\u001b[0;36m1\u001b[0m\u001b[0;34m,\u001b[0m\u001b[0;36m2\u001b[0m\u001b[0;34m,\u001b[0m\u001b[0;36m3\u001b[0m\u001b[0;34m,\u001b[0m\u001b[0;36m4\u001b[0m\u001b[0;34m]\u001b[0m\u001b[0;34m\u001b[0m\u001b[0;34m\u001b[0m\u001b[0m\n\u001b[0;32m----> 2\u001b[0;31m \u001b[0mprint\u001b[0m\u001b[0;34m(\u001b[0m\u001b[0mnu\u001b[0m\u001b[0;34m[\u001b[0m\u001b[0;34m-\u001b[0m\u001b[0;36m1\u001b[0m\u001b[0;34m]\u001b[0m\u001b[0;34m[\u001b[0m\u001b[0;34m-\u001b[0m\u001b[0;36m1\u001b[0m\u001b[0;34m]\u001b[0m\u001b[0;34m)\u001b[0m\u001b[0;34m\u001b[0m\u001b[0;34m\u001b[0m\u001b[0m\n\u001b[0m\u001b[1;32m      3\u001b[0m \u001b[0mnu\u001b[0m\u001b[0;34m.\u001b[0m\u001b[0mappend\u001b[0m\u001b[0;34m(\u001b[0m\u001b[0;34m[\u001b[0m\u001b[0;36m5\u001b[0m\u001b[0;34m,\u001b[0m\u001b[0;36m6\u001b[0m\u001b[0;34m,\u001b[0m\u001b[0;36m7\u001b[0m\u001b[0;34m,\u001b[0m\u001b[0;36m8\u001b[0m\u001b[0;34m]\u001b[0m\u001b[0;34m)\u001b[0m\u001b[0;34m\u001b[0m\u001b[0;34m\u001b[0m\u001b[0m\n\u001b[1;32m      4\u001b[0m \u001b[0mprint\u001b[0m\u001b[0;34m(\u001b[0m\u001b[0mlen\u001b[0m\u001b[0;34m(\u001b[0m\u001b[0mnu\u001b[0m\u001b[0;34m)\u001b[0m\u001b[0;34m)\u001b[0m\u001b[0;34m\u001b[0m\u001b[0;34m\u001b[0m\u001b[0m\n\u001b[1;32m      5\u001b[0m \u001b[0mprint\u001b[0m\u001b[0;34m(\u001b[0m\u001b[0mnu\u001b[0m\u001b[0;34m)\u001b[0m\u001b[0;34m\u001b[0m\u001b[0;34m\u001b[0m\u001b[0m\n",
      "\u001b[0;31mTypeError\u001b[0m: 'int' object is not subscriptable"
     ]
    }
   ],
   "source": [
    "nu=[1,2,3,4]\n",
    "print(nu[-1][-1])\n",
    "nu.append([5,6,7,8])\n",
    "print(len(nu))\n",
    "print(nu)"
   ]
  },
  {
   "cell_type": "code",
   "execution_count": 41,
   "metadata": {},
   "outputs": [
    {
     "name": "stdout",
     "output_type": "stream",
     "text": [
      "{1: 5, 2: 3}\n"
     ]
    }
   ],
   "source": [
    "a={1:5,2:3,3:4}\n",
    "a.pop(3)\n",
    "print(a)"
   ]
  },
  {
   "cell_type": "code",
   "execution_count": null,
   "metadata": {},
   "outputs": [],
   "source": []
  }
 ],
 "metadata": {
  "celltoolbar": "Raw Cell Format",
  "colab": {
   "name": "List.ipynb",
   "provenance": []
  },
  "kernelspec": {
   "display_name": "Python 3",
   "language": "python",
   "name": "python3"
  },
  "language_info": {
   "codemirror_mode": {
    "name": "ipython",
    "version": 3
   },
   "file_extension": ".py",
   "mimetype": "text/x-python",
   "name": "python",
   "nbconvert_exporter": "python",
   "pygments_lexer": "ipython3",
   "version": "3.7.6"
  }
 },
 "nbformat": 4,
 "nbformat_minor": 1
}
