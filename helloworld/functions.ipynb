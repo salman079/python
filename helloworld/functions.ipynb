{
 "cells": [
  {
   "cell_type": "markdown",
   "metadata": {},
   "source": [
    "# Positional argument"
   ]
  },
  {
   "cell_type": "code",
   "execution_count": 48,
   "metadata": {
    "colab": {
     "base_uri": "https://localhost:8080/",
     "height": 87
    },
    "colab_type": "code",
    "id": "Q6B1uehGY0hv",
    "outputId": "891ac69c-1f92-48f3-9009-81ce47a3f8a1"
   },
   "outputs": [
    {
     "name": "stdout",
     "output_type": "stream",
     "text": [
      "sum of two variables 11\n",
      "sum of two variables 14\n",
      "sum of two variables 7.5\n",
      "sum of two variables hello world\n"
     ]
    }
   ],
   "source": [
    "def add (a,b):\n",
    "  print(f\"sum of two variables {a+b}\")\n",
    "\n",
    "\n",
    "add(2,9)\n",
    "add(5,9)\n",
    "add(4.3,3.2)\n",
    "add(\"hello\",\" world\")"
   ]
  },
  {
   "cell_type": "markdown",
   "metadata": {},
   "source": [
    "# Keyword argument"
   ]
  },
  {
   "cell_type": "code",
   "execution_count": 51,
   "metadata": {},
   "outputs": [
    {
     "name": "stdout",
     "output_type": "stream",
     "text": [
      "sum of two variables abdullahtooba\n",
      "husband: salman and wife:reema\n"
     ]
    }
   ],
   "source": [
    "add(\"abdullah\", \"tooba\")\n",
    "def fam(wife,husband):\n",
    "    print(f\"husband: {husband} and wife:{wife}\")\n",
    "fam(husband=\"salman\", wife=\"reema\")"
   ]
  },
  {
   "cell_type": "markdown",
   "metadata": {},
   "source": [
    "# Default parameters"
   ]
  },
  {
   "cell_type": "code",
   "execution_count": 54,
   "metadata": {},
   "outputs": [
    {
     "name": "stdout",
     "output_type": "stream",
     "text": [
      "salman ullah siddiqui\n",
      "ahmed  khan\n",
      "tooba ppp salman\n",
      "abdullah  siddiqui\n",
      "ad  sid\n"
     ]
    }
   ],
   "source": [
    "def fullname(f_name,l_name,m_name=\"\"): #positional argument comes first than keyword argument than follows\n",
    "    print (f_name,m_name,l_name)\n",
    "\n",
    "fullname(f_name=\"salman\",m_name=\"ullah\",l_name=\"siddiqui\")\n",
    "fullname(f_name=\"ahmed\",l_name=\"khan\")\n",
    "fullname(\"tooba\",\"salman\",\"ppp\")\n",
    "fullname(\"abdullah\",\"siddiqui\")\n",
    "fullname(l_name=\"sid\",f_name=\"ad\")"
   ]
  },
  {
   "cell_type": "code",
   "execution_count": 50,
   "metadata": {},
   "outputs": [
    {
     "name": "stdout",
     "output_type": "stream",
     "text": [
      "Country: Pakistan - sales tax @ 5.0% on sales of 100 is 5.0\n",
      "Country: KSA - sales tax @ 5.0% on sales of 500 is 25.0\n",
      "Country: USA - sales tax @ 1.0% on sales of 200 is 2.0\n"
     ]
    }
   ],
   "source": [
    "def sale_tax(country,sale, tax=0.05):\n",
    "    print(f\"Country: {country} - sales tax @ {tax*100}% on sales of {sale} is {sale*tax}\")\n",
    "\n",
    "sale_tax(country=\"Pakistan\",sale=100)\n",
    "sale_tax(country=\"KSA\",sale=500)\n",
    "sale_tax(country=\"USA\",sale=200,tax=0.01)"
   ]
  },
  {
   "cell_type": "markdown",
   "metadata": {},
   "source": [
    "# Unknown argument - Tuple"
   ]
  },
  {
   "cell_type": "code",
   "execution_count": 55,
   "metadata": {},
   "outputs": [
    {
     "name": "stdout",
     "output_type": "stream",
     "text": [
      "12 chicken ('Olives', 'capcicum')\n",
      "27 mutton ('Olives', 'capcicum', 'onion')\n"
     ]
    }
   ],
   "source": [
    "def PizzaOrder (size, flavour, *toppings):\n",
    "    print(size,flavour,toppings)\n",
    "\n",
    "PizzaOrder(12,\"chicken\",\"Olives\", \"capcicum\")\n",
    "PizzaOrder(27,\"mutton\",\"Olives\", \"capcicum\", \"onion\")\n"
   ]
  },
  {
   "cell_type": "code",
   "execution_count": 56,
   "metadata": {
    "scrolled": true
   },
   "outputs": [
    {
     "name": "stdout",
     "output_type": "stream",
     "text": [
      "The winner was Real Madrid\n",
      "The score was 1-0\n",
      "('overtime =yes', 'injuries=none')\n"
     ]
    }
   ],
   "source": [
    "def display_result(winner, score, *other_info):\n",
    "    print(\"The winner was \" + winner)\n",
    "    print(\"The score was \" + score)\n",
    "    print(other_info)\n",
    "    \n",
    "display_result(\"Real Madrid\", \"1-0\", \"overtime =yes\", \"injuries=none\")\n",
    "## display_result(winner=\"Real Madrid\", score=\"1-0\", \"overtime =yes\", \"injuries=none\")"
   ]
  },
  {
   "cell_type": "markdown",
   "metadata": {},
   "source": [
    "# Unknown argument - Dict value"
   ]
  },
  {
   "cell_type": "code",
   "execution_count": 19,
   "metadata": {},
   "outputs": [
    {
     "name": "stdout",
     "output_type": "stream",
     "text": [
      "The winner was Real Madrid\n",
      "The score was 1-0\n",
      "overtime: yes\n",
      "injuries: none\n"
     ]
    }
   ],
   "source": [
    "def display_result(winner, score, **other_info):\n",
    "    print(\"The winner was \" + winner)\n",
    "    print(\"The score was \" + score)\n",
    "    for key, value in other_info.items():\n",
    "        print(key + \": \" + value)\n",
    "display_result(winner=\"Real Madrid\", score=\"1-0\",overtime =\"yes\", injuries=\"none\")"
   ]
  },
  {
   "cell_type": "markdown",
   "metadata": {},
   "source": [
    "# Returing value"
   ]
  },
  {
   "cell_type": "code",
   "execution_count": 36,
   "metadata": {},
   "outputs": [
    {
     "name": "stdout",
     "output_type": "stream",
     "text": [
      "5.0\n",
      "Country: Pakistan - sales tax @ 500.0% on sales of 100 is 500.0\n",
      "25.0\n",
      "2.0\n"
     ]
    }
   ],
   "source": [
    "def sale_tax(sale, tax=0.05):\n",
    "    salestax=tax*sale\n",
    "    return salestax\n",
    "    return tax\n",
    "# return(salestax=tax*sale)\n",
    "\n",
    "sale=100\n",
    "saletax=sale_tax(sale)\n",
    "tax=sale_tax(sale)\n",
    "country=\"Pakistan\"\n",
    "print(saletax)\n",
    "print(f\"Country: {country} - sales tax @ {tax*100}% on sales of {sale} is {sale*tax}\")\n",
    "\n",
    "print(sale_tax(sale=500))\n",
    "#country=\"KSA\"\n",
    "#print(saletax)\n",
    "#print(f\"Country: {country} - sales tax @ {tax*100}% on sales of {sale} is {sale*tax}\")\n",
    "\n",
    "saletax=sale_tax(sale=200,tax=0.01)\n",
    "country=\"USA\"\n",
    "print(saletax)\n",
    "#print(f\"Country: {country} - sales tax @ {tax*100}% on sales of {sale} is {sale*tax}\")"
   ]
  },
  {
   "cell_type": "code",
   "execution_count": 63,
   "metadata": {},
   "outputs": [
    {
     "name": "stdout",
     "output_type": "stream",
     "text": [
      "(11, 'The sum of two numbers is')\n",
      "The sum of two numbers is 11 "
     ]
    }
   ],
   "source": [
    "def sum(a,b):\n",
    "    product = a+b\n",
    "    return product,\"The sum of two numbers is\"\n",
    "\n",
    "result=sum(5,6)\n",
    "print(result)\n",
    "for i in result[::-1]:\n",
    "    print(i,end=\" \")"
   ]
  },
  {
   "cell_type": "markdown",
   "metadata": {},
   "source": [
    "# Global variable vs Local variable"
   ]
  },
  {
   "cell_type": "code",
   "execution_count": 44,
   "metadata": {},
   "outputs": [],
   "source": [
    "def mysum(a,b):\n",
    "    global ccc # with this global we can use the ccc varible outside this function\n",
    "    ccc=a+b\n",
    "    return ccc # with this return the following calling of mysum funcition works "
   ]
  },
  {
   "cell_type": "code",
   "execution_count": 45,
   "metadata": {},
   "outputs": [
    {
     "data": {
      "text/plain": [
       "8"
      ]
     },
     "execution_count": 45,
     "metadata": {},
     "output_type": "execute_result"
    }
   ],
   "source": [
    "mysum(2,6)\n"
   ]
  },
  {
   "cell_type": "code",
   "execution_count": 46,
   "metadata": {},
   "outputs": [
    {
     "name": "stdout",
     "output_type": "stream",
     "text": [
      "108\n"
     ]
    }
   ],
   "source": [
    "print(ccc+100)"
   ]
  },
  {
   "cell_type": "markdown",
   "metadata": {},
   "source": [
    "# Function within function"
   ]
  },
  {
   "cell_type": "code",
   "execution_count": null,
   "metadata": {},
   "outputs": [],
   "source": []
  }
 ],
 "metadata": {
  "colab": {
   "name": "functions.ipynb",
   "provenance": []
  },
  "kernelspec": {
   "display_name": "Python 3",
   "language": "python",
   "name": "python3"
  },
  "language_info": {
   "codemirror_mode": {
    "name": "ipython",
    "version": 3
   },
   "file_extension": ".py",
   "mimetype": "text/x-python",
   "name": "python",
   "nbconvert_exporter": "python",
   "pygments_lexer": "ipython3",
   "version": "3.7.6"
  }
 },
 "nbformat": 4,
 "nbformat_minor": 1
}
